{
 "cells": [
  {
   "cell_type": "markdown",
   "id": "f11b5c04",
   "metadata": {},
   "source": [
    "## Imports and Functions"
   ]
  },
  {
   "cell_type": "code",
   "execution_count": 11,
   "id": "3e894beb",
   "metadata": {
    "ExecuteTime": {
     "end_time": "2023-01-23T22:22:37.673744Z",
     "start_time": "2023-01-23T22:22:37.518306Z"
    }
   },
   "outputs": [],
   "source": [
    "import numpy as np\n",
    "import pandas as pd\n",
    "\n",
    "import matplotlib.pyplot as plt\n",
    "\n",
    "from sklearn.linear_model import LogisticRegression, LassoCV, Lasso\n",
    "\n",
    "from sklearn.svm import SVR\n",
    "from sklearn.model_selection import (cross_val_score, GridSearchCV)\n",
    "from sklearn.ensemble import RandomForestClassifier\n",
    "\n",
    "np.random.seed(23)"
   ]
  },
  {
   "cell_type": "code",
   "execution_count": 3,
   "id": "914101e4",
   "metadata": {
    "ExecuteTime": {
     "end_time": "2023-01-23T22:20:18.554164Z",
     "start_time": "2023-01-23T22:20:17.197632Z"
    }
   },
   "outputs": [],
   "source": [
    "X_train = pd.read_csv('../data/x_train_ss_processed.csv')\n",
    "X_test = pd.read_csv('../data/x_test_ss_processed.csv')\n",
    "y_train = pd.read_csv('../data/y_train_processed.csv')\n",
    "y_test = pd.read_csv('../data/y_test_processed.csv')"
   ]
  },
  {
   "cell_type": "code",
   "execution_count": 4,
   "id": "7590b356",
   "metadata": {
    "ExecuteTime": {
     "end_time": "2023-01-23T22:20:19.489285Z",
     "start_time": "2023-01-23T22:20:19.470286Z"
    },
    "scrolled": true
   },
   "outputs": [
    {
     "name": "stdout",
     "output_type": "stream",
     "text": [
      "(160505, 22) \n",
      " (160505, 1) \n",
      " (5782, 22) \n",
      " (5782, 1)\n"
     ]
    }
   ],
   "source": [
    "print(X_train.shape, '\\n', \n",
    "      y_train.shape, '\\n', \n",
    "      X_test.shape, '\\n', \n",
    "      y_test.shape)"
   ]
  },
  {
   "cell_type": "code",
   "execution_count": 5,
   "id": "c15955cd",
   "metadata": {
    "ExecuteTime": {
     "end_time": "2023-01-23T22:21:32.812262Z",
     "start_time": "2023-01-23T22:21:32.807272Z"
    }
   },
   "outputs": [],
   "source": [
    "# unravel y variables\n",
    "y_train = y_train['lateflight']\n",
    "y_test = y_test['lateflight']"
   ]
  },
  {
   "cell_type": "markdown",
   "id": "5550a4bb",
   "metadata": {},
   "source": [
    "## Logit"
   ]
  },
  {
   "cell_type": "code",
   "execution_count": 6,
   "id": "ffb8c10f",
   "metadata": {
    "ExecuteTime": {
     "end_time": "2023-01-23T22:21:36.555453Z",
     "start_time": "2023-01-23T22:21:35.846912Z"
    }
   },
   "outputs": [
    {
     "name": "stdout",
     "output_type": "stream",
     "text": [
      "Baseline: 58%\n",
      "\n",
      "Test scores: 0.5946039432722241\n"
     ]
    }
   ],
   "source": [
    "logreg = LogisticRegression(random_state=73)\n",
    "\n",
    "logreg.fit(X_train, y_train.values.ravel())\n",
    "\n",
    "print('Baseline: 58%\\n')\n",
    "\n",
    "\n",
    "print('Test scores:', logreg.score(X_test,y_test))"
   ]
  },
  {
   "cell_type": "markdown",
   "id": "bb369cc0",
   "metadata": {},
   "source": [
    "## Lasso Regularization"
   ]
  },
  {
   "cell_type": "code",
   "execution_count": 7,
   "id": "7ce8e70d",
   "metadata": {
    "ExecuteTime": {
     "end_time": "2023-01-23T22:21:52.149031Z",
     "start_time": "2023-01-23T22:21:38.137730Z"
    }
   },
   "outputs": [
    {
     "name": "stdout",
     "output_type": "stream",
     "text": [
      "Best Alpha: 0.0013\n",
      "CV Score: 0.0430\n"
     ]
    }
   ],
   "source": [
    "# initialize\n",
    "lasso_cv = LassoCV()\n",
    "\n",
    "# cv\n",
    "scores = cross_val_score(lasso_cv, X_train, y_train)\n",
    "\n",
    "# fit\n",
    "lasso_cv.fit(X_train, y_train)\n",
    "\n",
    "# best attributes\n",
    "print(f'Best Alpha: {lasso_cv.alpha_:.4f}')\n",
    "print(f'CV Score: {scores.mean():.4f}')"
   ]
  },
  {
   "cell_type": "code",
   "execution_count": 8,
   "id": "abca396e",
   "metadata": {
    "ExecuteTime": {
     "end_time": "2023-01-23T22:22:09.357825Z",
     "start_time": "2023-01-23T22:22:09.342826Z"
    }
   },
   "outputs": [],
   "source": [
    "# generate features to select\n",
    "lasso_cols = [col for col, coef in zip(X_train.columns, lasso_cv.coef_) if coef]"
   ]
  },
  {
   "cell_type": "code",
   "execution_count": 9,
   "id": "41635c6a",
   "metadata": {
    "ExecuteTime": {
     "end_time": "2023-01-23T22:22:11.757841Z",
     "start_time": "2023-01-23T22:22:11.070364Z"
    }
   },
   "outputs": [
    {
     "data": {
      "text/plain": [
       "0.5947768938083708"
      ]
     },
     "execution_count": 9,
     "metadata": {},
     "output_type": "execute_result"
    }
   ],
   "source": [
    "logreg.fit(X_train[lasso_cols], y_train)\n",
    "\n",
    "logreg.score(X_test[lasso_cols],y_test)"
   ]
  },
  {
   "cell_type": "code",
   "execution_count": 10,
   "id": "5f8b7f9e",
   "metadata": {
    "ExecuteTime": {
     "end_time": "2023-01-23T22:22:11.773771Z",
     "start_time": "2023-01-23T22:22:11.760772Z"
    }
   },
   "outputs": [
    {
     "data": {
      "text/plain": [
       "21"
      ]
     },
     "execution_count": 10,
     "metadata": {},
     "output_type": "execute_result"
    }
   ],
   "source": [
    "len(lasso_cols)"
   ]
  },
  {
   "cell_type": "markdown",
   "id": "82037414",
   "metadata": {},
   "source": [
    "**Observation** 1 column removed"
   ]
  },
  {
   "cell_type": "markdown",
   "id": "94a5a41f",
   "metadata": {},
   "source": [
    "## Random Forest"
   ]
  },
  {
   "cell_type": "code",
   "execution_count": 12,
   "id": "fa7f3ed5",
   "metadata": {
    "ExecuteTime": {
     "end_time": "2023-01-23T22:22:44.897379Z",
     "start_time": "2023-01-23T22:22:44.886380Z"
    }
   },
   "outputs": [],
   "source": [
    "# gridsearch\n",
    "rf_params = {\n",
    "             'n_estimators':[100,500],\n",
    "             'max_depth':[1,5,10]}   # parameters for grid search\n",
    "    \n",
    "rf_gs = GridSearchCV(RandomForestClassifier(), rf_params, cv=5, verbose=1, n_jobs=-1)"
   ]
  },
  {
   "cell_type": "code",
   "execution_count": 14,
   "id": "57e6db4e",
   "metadata": {
    "ExecuteTime": {
     "end_time": "2023-01-23T22:28:41.219325Z",
     "start_time": "2023-01-23T22:23:41.776091Z"
    }
   },
   "outputs": [
    {
     "name": "stdout",
     "output_type": "stream",
     "text": [
      "Fitting 5 folds for each of 6 candidates, totalling 30 fits\n"
     ]
    },
    {
     "data": {
      "text/plain": [
       "{'max_depth': 10, 'n_estimators': 500}"
      ]
     },
     "execution_count": 14,
     "metadata": {},
     "output_type": "execute_result"
    }
   ],
   "source": [
    "# fit\n",
    "# UNCOMMENT IF YOU WANT TO RUN - takes 5 minutes\n",
    "rf_gs.fit(X_train, y_train)\n",
    "\n",
    "# show best params\n",
    "rf_gs.best_params_"
   ]
  },
  {
   "cell_type": "code",
   "execution_count": 15,
   "id": "cc231813",
   "metadata": {
    "ExecuteTime": {
     "end_time": "2023-01-23T22:31:00.703369Z",
     "start_time": "2023-01-23T22:29:29.968414Z"
    }
   },
   "outputs": [
    {
     "data": {
      "text/plain": [
       "0.6048080249048772"
      ]
     },
     "execution_count": 15,
     "metadata": {},
     "output_type": "execute_result"
    }
   ],
   "source": [
    "# initialize\n",
    "rf = RandomForestClassifier(n_estimators=500,\n",
    "                           max_depth=10)\n",
    "\n",
    "# fit\n",
    "rf.fit(X_train, y_train)\n",
    "\n",
    "# score\n",
    "rf.score(X_test,y_test)"
   ]
  },
  {
   "cell_type": "code",
   "execution_count": 16,
   "id": "e2e59232",
   "metadata": {
    "ExecuteTime": {
     "end_time": "2023-01-23T22:35:27.719947Z",
     "start_time": "2023-01-23T22:35:27.607946Z"
    }
   },
   "outputs": [
    {
     "data": {
      "text/plain": [
       "array([0.2086307 , 0.17565431, 0.15789598, 0.01893045, 0.00726054,\n",
       "       0.02557234, 0.01698393, 0.00705815, 0.00856791, 0.0080591 ,\n",
       "       0.01669763, 0.00714286, 0.10972441, 0.02239442, 0.02319745,\n",
       "       0.03553625, 0.08775415, 0.00955869, 0.00418019, 0.00158677,\n",
       "       0.00690161, 0.04071215])"
      ]
     },
     "execution_count": 16,
     "metadata": {},
     "output_type": "execute_result"
    }
   ],
   "source": [
    "rf.feature_importances_"
   ]
  },
  {
   "cell_type": "code",
   "execution_count": 17,
   "id": "2106c634",
   "metadata": {
    "ExecuteTime": {
     "end_time": "2023-01-23T22:35:28.739039Z",
     "start_time": "2023-01-23T22:35:28.278039Z"
    }
   },
   "outputs": [
    {
     "name": "stdout",
     "output_type": "stream",
     "text": [
      "Features and their importance:\n",
      "\n"
     ]
    },
    {
     "data": {
      "text/plain": [
       "<AxesSubplot:title={'center':'Feature Importances'}>"
      ]
     },
     "execution_count": 17,
     "metadata": {},
     "output_type": "execute_result"
    },
    {
     "data": {
      "image/png": "[encoded data removed]",
      "text/plain": [
       "<Figure size 432x432 with 1 Axes>"
      ]
     },
     "metadata": {
      "needs_background": "light"
     },
     "output_type": "display_data"
    }
   ],
   "source": [
    "print('Features and their importance:\\n')\n",
    "feature_importances = pd.Series(rf.feature_importances_, index=X_train.columns).sort_values().tail(10)\n",
    "feature_importances.plot(kind=\"barh\", figsize=(6,6), title='Feature Importances')"
   ]
  },
  {
   "cell_type": "code",
   "execution_count": 18,
   "id": "e506e52c",
   "metadata": {
    "ExecuteTime": {
     "end_time": "2023-01-23T22:35:41.141055Z",
     "start_time": "2023-01-23T22:35:41.135032Z"
    }
   },
   "outputs": [],
   "source": [
    "# conclusions in slideshow"
   ]
  }
 ],
 "metadata": {
  "kernelspec": {
   "display_name": "Python 3 (ipykernel)",
   "language": "python",
   "name": "python3"
  },
  "language_info": {
   "codemirror_mode": {
    "name": "ipython",
    "version": 3
   },
   "file_extension": ".py",
   "mimetype": "text/x-python",
   "name": "python",
   "nbconvert_exporter": "python",
   "pygments_lexer": "ipython3",
   "version": "3.9.12"
  },
  "toc": {
   "base_numbering": 1,
   "nav_menu": {},
   "number_sections": false,
   "sideBar": true,
   "skip_h1_title": false,
   "title_cell": "Table of Contents",
   "title_sidebar": "Contents",
   "toc_cell": false,
   "toc_position": {},
   "toc_section_display": true,
   "toc_window_display": true
  }
 },
 "nbformat": 4,
 "nbformat_minor": 5
}
