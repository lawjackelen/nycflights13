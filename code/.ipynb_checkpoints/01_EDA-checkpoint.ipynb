{
 "cells": [
  {
   "cell_type": "markdown",
   "id": "fe27af75",
   "metadata": {},
   "source": [
    "# Imports & Functions"
   ]
  },
  {
   "cell_type": "code",
   "execution_count": 1,
   "id": "ae828c3d",
   "metadata": {
    "ExecuteTime": {
     "end_time": "2023-01-23T22:03:29.726334Z",
     "start_time": "2023-01-23T22:03:26.001299Z"
    }
   },
   "outputs": [],
   "source": [
    "import pandas as pd\n",
    "import numpy as np\n",
    "\n",
    "import matplotlib.pyplot as plt\n",
    "import seaborn as sns\n",
    "\n",
    "import datetime as dt\n",
    "\n",
    "np.random.seed(2121)"
   ]
  },
  {
   "cell_type": "code",
   "execution_count": 2,
   "id": "256222fd",
   "metadata": {
    "ExecuteTime": {
     "end_time": "2023-01-23T22:03:33.096559Z",
     "start_time": "2023-01-23T22:03:33.057562Z"
    },
    "code_folding": [
     0,
     43
    ]
   },
   "outputs": [],
   "source": [
    "def distgraph(var, var_order, title):\n",
    "    fig, ax = plt.subplots(figsize=(10, 5))\n",
    "    (df.groupby('lateflight')[var].value_counts()\\\n",
    "                                    .unstack().T.loc[var_order].sum(axis=1)\\\n",
    "                                 /df.shape[0])\\\n",
    "                    .plot(kind='barh')\n",
    "    \n",
    "    # fluff\n",
    "    ax.set_xlabel('% of Flights')\n",
    "    ax.set_title(title+'\\nDistribution',\n",
    "                 fontsize=15, \n",
    "                 fontweight='bold', \n",
    "                 color='firebrick', \n",
    "                 loc='left')\n",
    "   \n",
    "    max_width = 0\n",
    "    for rect in ax.patches:\n",
    "        if rect.get_width()>max_width:\n",
    "            max_width = rect.get_width()\n",
    "    \n",
    "    for rect in ax.patches:\n",
    "\n",
    "            height = rect.get_height()\n",
    "            width = rect.get_width()\n",
    "            x = rect.get_x()\n",
    "            y = rect.get_y()\n",
    "            \n",
    "            label_text = round(width, 2)\n",
    "            \n",
    "            label_x = x + width / 2\n",
    "            label_y = y + height / 2\n",
    "\n",
    "            if label_x < max_width*.05:\n",
    "                ax.text(width+.05*max_width, label_y, f'{label_text:.2f}'\n",
    "                        , ha='center', va='center', color = 'black')\n",
    "            else:\n",
    "                ax.text(label_x, label_y, f'{label_text:.2f}'\n",
    "                        , ha='center', va='center', color = 'white')\n",
    "            \n",
    "    \n",
    "    ax.set(ylabel=None);\n",
    "    \n",
    "    \n",
    "def propgraph(var,var_order,title):\n",
    "    fig, ax = plt.subplots()\n",
    "\n",
    "    df.groupby(var)['lateflight'].value_counts(normalize=True)\\\n",
    "        .unstack().loc[var_order].T\\\n",
    "        .loc[[0,1]].T\\\n",
    "        .plot(kind='barh', \n",
    "              figsize=(10, 8), \n",
    "              stacked=True,\n",
    "              color=['slategrey', 'lightsalmon'], \n",
    "              ax=ax)\n",
    "    ax.set_title(title+'\\nProportion of lateflight',\n",
    "                 fontsize=15, \n",
    "                 fontweight='bold', \n",
    "                 color='firebrick', \n",
    "                 loc='left')\n",
    "    ax.set_ylabel(None)\n",
    "    ax.legend(labels=['not late','late'],loc=(1.05,0.88))\n",
    "    \n",
    "    max_width = 0\n",
    "    for rect in ax.patches:\n",
    "        if rect.get_width()>max_width:\n",
    "            max_width = rect.get_width()\n",
    "    \n",
    "    for rect in ax.patches:\n",
    "\n",
    "            height = rect.get_height()\n",
    "            width = rect.get_width()\n",
    "            x = rect.get_x()\n",
    "            y = rect.get_y()\n",
    "            \n",
    "            label_text = round(width, 2)\n",
    "            \n",
    "            label_x = x + width / 2\n",
    "            label_y = y + height / 2\n",
    "\n",
    "            if label_x >= max_width*.05:\n",
    "                ax.text(label_x, label_y, f'{label_text:.2f}'\n",
    "                        , ha='center', va='center', color = 'black');"
   ]
  },
  {
   "cell_type": "markdown",
   "id": "e4dfecb7",
   "metadata": {},
   "source": [
    "# Initial Inspection"
   ]
  },
  {
   "cell_type": "code",
   "execution_count": 3,
   "id": "c95f88a2",
   "metadata": {
    "ExecuteTime": {
     "end_time": "2023-01-23T22:05:32.137082Z",
     "start_time": "2023-01-23T22:05:31.544999Z"
    }
   },
   "outputs": [
    {
     "data": {
      "text/html": [
       "<div>\n",
       "<style scoped>\n",
       "    .dataframe tbody tr th:only-of-type {\n",
       "        vertical-align: middle;\n",
       "    }\n",
       "\n",
       "    .dataframe tbody tr th {\n",
       "        vertical-align: top;\n",
       "    }\n",
       "\n",
       "    .dataframe thead th {\n",
       "        text-align: right;\n",
       "    }\n",
       "</style>\n",
       "<table border=\"1\" class=\"dataframe\">\n",
       "  <thead>\n",
       "    <tr style=\"text-align: right;\">\n",
       "      <th></th>\n",
       "      <th>year</th>\n",
       "      <th>month</th>\n",
       "      <th>day</th>\n",
       "      <th>dep_time</th>\n",
       "      <th>sched_dep_time</th>\n",
       "      <th>dep_delay</th>\n",
       "      <th>arr_time</th>\n",
       "      <th>sched_arr_time</th>\n",
       "      <th>arr_delay</th>\n",
       "      <th>carrier</th>\n",
       "      <th>flight</th>\n",
       "      <th>tailnum</th>\n",
       "      <th>origin</th>\n",
       "      <th>dest</th>\n",
       "      <th>air_time</th>\n",
       "      <th>distance</th>\n",
       "      <th>hour</th>\n",
       "      <th>minute</th>\n",
       "      <th>time_hour</th>\n",
       "    </tr>\n",
       "  </thead>\n",
       "  <tbody>\n",
       "    <tr>\n",
       "      <th>0</th>\n",
       "      <td>2013</td>\n",
       "      <td>1</td>\n",
       "      <td>1</td>\n",
       "      <td>517.0</td>\n",
       "      <td>515</td>\n",
       "      <td>2.0</td>\n",
       "      <td>830.0</td>\n",
       "      <td>819</td>\n",
       "      <td>11.0</td>\n",
       "      <td>UA</td>\n",
       "      <td>1545</td>\n",
       "      <td>N14228</td>\n",
       "      <td>EWR</td>\n",
       "      <td>IAH</td>\n",
       "      <td>227.0</td>\n",
       "      <td>1400</td>\n",
       "      <td>5</td>\n",
       "      <td>15</td>\n",
       "      <td>2013-01-01 05:00:00</td>\n",
       "    </tr>\n",
       "    <tr>\n",
       "      <th>1</th>\n",
       "      <td>2013</td>\n",
       "      <td>1</td>\n",
       "      <td>1</td>\n",
       "      <td>533.0</td>\n",
       "      <td>529</td>\n",
       "      <td>4.0</td>\n",
       "      <td>850.0</td>\n",
       "      <td>830</td>\n",
       "      <td>20.0</td>\n",
       "      <td>UA</td>\n",
       "      <td>1714</td>\n",
       "      <td>N24211</td>\n",
       "      <td>LGA</td>\n",
       "      <td>IAH</td>\n",
       "      <td>227.0</td>\n",
       "      <td>1416</td>\n",
       "      <td>5</td>\n",
       "      <td>29</td>\n",
       "      <td>2013-01-01 05:00:00</td>\n",
       "    </tr>\n",
       "    <tr>\n",
       "      <th>2</th>\n",
       "      <td>2013</td>\n",
       "      <td>1</td>\n",
       "      <td>1</td>\n",
       "      <td>542.0</td>\n",
       "      <td>540</td>\n",
       "      <td>2.0</td>\n",
       "      <td>923.0</td>\n",
       "      <td>850</td>\n",
       "      <td>33.0</td>\n",
       "      <td>AA</td>\n",
       "      <td>1141</td>\n",
       "      <td>N619AA</td>\n",
       "      <td>JFK</td>\n",
       "      <td>MIA</td>\n",
       "      <td>160.0</td>\n",
       "      <td>1089</td>\n",
       "      <td>5</td>\n",
       "      <td>40</td>\n",
       "      <td>2013-01-01 05:00:00</td>\n",
       "    </tr>\n",
       "    <tr>\n",
       "      <th>3</th>\n",
       "      <td>2013</td>\n",
       "      <td>1</td>\n",
       "      <td>1</td>\n",
       "      <td>544.0</td>\n",
       "      <td>545</td>\n",
       "      <td>-1.0</td>\n",
       "      <td>1004.0</td>\n",
       "      <td>1022</td>\n",
       "      <td>-18.0</td>\n",
       "      <td>B6</td>\n",
       "      <td>725</td>\n",
       "      <td>N804JB</td>\n",
       "      <td>JFK</td>\n",
       "      <td>BQN</td>\n",
       "      <td>183.0</td>\n",
       "      <td>1576</td>\n",
       "      <td>5</td>\n",
       "      <td>45</td>\n",
       "      <td>2013-01-01 05:00:00</td>\n",
       "    </tr>\n",
       "    <tr>\n",
       "      <th>4</th>\n",
       "      <td>2013</td>\n",
       "      <td>1</td>\n",
       "      <td>1</td>\n",
       "      <td>554.0</td>\n",
       "      <td>600</td>\n",
       "      <td>-6.0</td>\n",
       "      <td>812.0</td>\n",
       "      <td>837</td>\n",
       "      <td>-25.0</td>\n",
       "      <td>DL</td>\n",
       "      <td>461</td>\n",
       "      <td>N668DN</td>\n",
       "      <td>LGA</td>\n",
       "      <td>ATL</td>\n",
       "      <td>116.0</td>\n",
       "      <td>762</td>\n",
       "      <td>6</td>\n",
       "      <td>0</td>\n",
       "      <td>2013-01-01 06:00:00</td>\n",
       "    </tr>\n",
       "  </tbody>\n",
       "</table>\n",
       "</div>"
      ],
      "text/plain": [
       "   year  month  day  dep_time  sched_dep_time  dep_delay  arr_time  \\\n",
       "0  2013      1    1     517.0             515        2.0     830.0   \n",
       "1  2013      1    1     533.0             529        4.0     850.0   \n",
       "2  2013      1    1     542.0             540        2.0     923.0   \n",
       "3  2013      1    1     544.0             545       -1.0    1004.0   \n",
       "4  2013      1    1     554.0             600       -6.0     812.0   \n",
       "\n",
       "   sched_arr_time  arr_delay carrier  flight tailnum origin dest  air_time  \\\n",
       "0             819       11.0      UA    1545  N14228    EWR  IAH     227.0   \n",
       "1             830       20.0      UA    1714  N24211    LGA  IAH     227.0   \n",
       "2             850       33.0      AA    1141  N619AA    JFK  MIA     160.0   \n",
       "3            1022      -18.0      B6     725  N804JB    JFK  BQN     183.0   \n",
       "4             837      -25.0      DL     461  N668DN    LGA  ATL     116.0   \n",
       "\n",
       "   distance  hour  minute            time_hour  \n",
       "0      1400     5      15  2013-01-01 05:00:00  \n",
       "1      1416     5      29  2013-01-01 05:00:00  \n",
       "2      1089     5      40  2013-01-01 05:00:00  \n",
       "3      1576     5      45  2013-01-01 05:00:00  \n",
       "4       762     6       0  2013-01-01 06:00:00  "
      ]
     },
     "execution_count": 3,
     "metadata": {},
     "output_type": "execute_result"
    }
   ],
   "source": [
    "# read in our dataframes\n",
    "df = pd.read_csv('../data/flight_history.csv')\n",
    "df_test = pd.read_csv('../data/flight_test.csv')\n",
    "\n",
    "df.head()"
   ]
  },
  {
   "cell_type": "code",
   "execution_count": 4,
   "id": "6eb883b1",
   "metadata": {
    "ExecuteTime": {
     "end_time": "2023-01-23T22:05:34.666496Z",
     "start_time": "2023-01-23T22:05:34.639495Z"
    }
   },
   "outputs": [
    {
     "data": {
      "text/html": [
       "<div>\n",
       "<style scoped>\n",
       "    .dataframe tbody tr th:only-of-type {\n",
       "        vertical-align: middle;\n",
       "    }\n",
       "\n",
       "    .dataframe tbody tr th {\n",
       "        vertical-align: top;\n",
       "    }\n",
       "\n",
       "    .dataframe thead th {\n",
       "        text-align: right;\n",
       "    }\n",
       "</style>\n",
       "<table border=\"1\" class=\"dataframe\">\n",
       "  <thead>\n",
       "    <tr style=\"text-align: right;\">\n",
       "      <th></th>\n",
       "      <th>uniqueid</th>\n",
       "      <th>year</th>\n",
       "      <th>month</th>\n",
       "      <th>day</th>\n",
       "      <th>sched_dep_time</th>\n",
       "      <th>sched_arr_time</th>\n",
       "      <th>carrier</th>\n",
       "      <th>flight</th>\n",
       "      <th>tailnum</th>\n",
       "      <th>origin</th>\n",
       "      <th>dest</th>\n",
       "      <th>hour</th>\n",
       "      <th>minute</th>\n",
       "      <th>time_hour</th>\n",
       "      <th>lateflight</th>\n",
       "    </tr>\n",
       "  </thead>\n",
       "  <tbody>\n",
       "    <tr>\n",
       "      <th>0</th>\n",
       "      <td>1</td>\n",
       "      <td>2013</td>\n",
       "      <td>7</td>\n",
       "      <td>14</td>\n",
       "      <td>1440</td>\n",
       "      <td>1749</td>\n",
       "      <td>DL</td>\n",
       "      <td>1902</td>\n",
       "      <td>N965DL</td>\n",
       "      <td>LGA</td>\n",
       "      <td>PBI</td>\n",
       "      <td>14</td>\n",
       "      <td>40</td>\n",
       "      <td>2013-07-14 14:00:00</td>\n",
       "      <td>0.0</td>\n",
       "    </tr>\n",
       "    <tr>\n",
       "      <th>1</th>\n",
       "      <td>2</td>\n",
       "      <td>2013</td>\n",
       "      <td>7</td>\n",
       "      <td>7</td>\n",
       "      <td>945</td>\n",
       "      <td>1305</td>\n",
       "      <td>AA</td>\n",
       "      <td>1871</td>\n",
       "      <td>N3AJAA</td>\n",
       "      <td>LGA</td>\n",
       "      <td>MIA</td>\n",
       "      <td>9</td>\n",
       "      <td>45</td>\n",
       "      <td>2013-07-07 09:00:00</td>\n",
       "      <td>0.0</td>\n",
       "    </tr>\n",
       "    <tr>\n",
       "      <th>2</th>\n",
       "      <td>3</td>\n",
       "      <td>2013</td>\n",
       "      <td>7</td>\n",
       "      <td>5</td>\n",
       "      <td>1200</td>\n",
       "      <td>1435</td>\n",
       "      <td>DL</td>\n",
       "      <td>1947</td>\n",
       "      <td>N608DA</td>\n",
       "      <td>LGA</td>\n",
       "      <td>ATL</td>\n",
       "      <td>12</td>\n",
       "      <td>0</td>\n",
       "      <td>2013-07-05 12:00:00</td>\n",
       "      <td>0.0</td>\n",
       "    </tr>\n",
       "    <tr>\n",
       "      <th>3</th>\n",
       "      <td>4</td>\n",
       "      <td>2013</td>\n",
       "      <td>7</td>\n",
       "      <td>22</td>\n",
       "      <td>650</td>\n",
       "      <td>808</td>\n",
       "      <td>EV</td>\n",
       "      <td>5811</td>\n",
       "      <td>N16919</td>\n",
       "      <td>EWR</td>\n",
       "      <td>BUF</td>\n",
       "      <td>6</td>\n",
       "      <td>50</td>\n",
       "      <td>2013-07-22 06:00:00</td>\n",
       "      <td>1.0</td>\n",
       "    </tr>\n",
       "    <tr>\n",
       "      <th>4</th>\n",
       "      <td>5</td>\n",
       "      <td>2013</td>\n",
       "      <td>7</td>\n",
       "      <td>2</td>\n",
       "      <td>1630</td>\n",
       "      <td>1930</td>\n",
       "      <td>AA</td>\n",
       "      <td>881</td>\n",
       "      <td>N3FCAA</td>\n",
       "      <td>JFK</td>\n",
       "      <td>DFW</td>\n",
       "      <td>16</td>\n",
       "      <td>30</td>\n",
       "      <td>2013-07-02 16:00:00</td>\n",
       "      <td>1.0</td>\n",
       "    </tr>\n",
       "  </tbody>\n",
       "</table>\n",
       "</div>"
      ],
      "text/plain": [
       "   uniqueid  year  month  day  sched_dep_time  sched_arr_time carrier  flight  \\\n",
       "0         1  2013      7   14            1440            1749      DL    1902   \n",
       "1         2  2013      7    7             945            1305      AA    1871   \n",
       "2         3  2013      7    5            1200            1435      DL    1947   \n",
       "3         4  2013      7   22             650             808      EV    5811   \n",
       "4         5  2013      7    2            1630            1930      AA     881   \n",
       "\n",
       "  tailnum origin dest  hour  minute            time_hour  lateflight  \n",
       "0  N965DL    LGA  PBI    14      40  2013-07-14 14:00:00         0.0  \n",
       "1  N3AJAA    LGA  MIA     9      45  2013-07-07 09:00:00         0.0  \n",
       "2  N608DA    LGA  ATL    12       0  2013-07-05 12:00:00         0.0  \n",
       "3  N16919    EWR  BUF     6      50  2013-07-22 06:00:00         1.0  \n",
       "4  N3FCAA    JFK  DFW    16      30  2013-07-02 16:00:00         1.0  "
      ]
     },
     "execution_count": 4,
     "metadata": {},
     "output_type": "execute_result"
    }
   ],
   "source": [
    "df_test.head()"
   ]
  },
  {
   "cell_type": "code",
   "execution_count": 5,
   "id": "2af0c5e3",
   "metadata": {
    "ExecuteTime": {
     "end_time": "2023-01-23T22:05:36.904108Z",
     "start_time": "2023-01-23T22:05:36.728037Z"
    }
   },
   "outputs": [
    {
     "data": {
      "text/plain": [
       "year                 1\n",
       "month                6\n",
       "day                 31\n",
       "dep_time          1291\n",
       "sched_dep_time     969\n",
       "dep_delay          469\n",
       "arr_time          1392\n",
       "sched_arr_time    1134\n",
       "arr_delay          526\n",
       "carrier             16\n",
       "flight            2994\n",
       "tailnum           3825\n",
       "origin               3\n",
       "dest               100\n",
       "air_time           484\n",
       "distance           203\n",
       "hour                19\n",
       "minute              60\n",
       "time_hour         3439\n",
       "dtype: int64"
      ]
     },
     "execution_count": 5,
     "metadata": {},
     "output_type": "execute_result"
    }
   ],
   "source": [
    "df.nunique(axis=0)"
   ]
  },
  {
   "cell_type": "markdown",
   "id": "d2077add",
   "metadata": {},
   "source": [
    "**Observation**\n",
    "- All flights are from 3 destinations and toward 100 origins\n",
    "- There are only 16 `carrier`s in the dataset\n",
    "- `flight` and `tailnum` will be too numerous to dummy, but might be able to be consolidated a different way"
   ]
  },
  {
   "cell_type": "code",
   "execution_count": 6,
   "id": "7c2ed6ab",
   "metadata": {
    "ExecuteTime": {
     "end_time": "2023-01-23T22:05:41.069622Z",
     "start_time": "2023-01-23T22:05:40.918757Z"
    }
   },
   "outputs": [
    {
     "data": {
      "text/html": [
       "<div>\n",
       "<style scoped>\n",
       "    .dataframe tbody tr th:only-of-type {\n",
       "        vertical-align: middle;\n",
       "    }\n",
       "\n",
       "    .dataframe tbody tr th {\n",
       "        vertical-align: top;\n",
       "    }\n",
       "\n",
       "    .dataframe thead th {\n",
       "        text-align: right;\n",
       "    }\n",
       "</style>\n",
       "<table border=\"1\" class=\"dataframe\">\n",
       "  <thead>\n",
       "    <tr style=\"text-align: right;\">\n",
       "      <th></th>\n",
       "      <th>year</th>\n",
       "      <th>month</th>\n",
       "      <th>day</th>\n",
       "      <th>dep_time</th>\n",
       "      <th>sched_dep_time</th>\n",
       "      <th>dep_delay</th>\n",
       "      <th>arr_time</th>\n",
       "      <th>sched_arr_time</th>\n",
       "      <th>arr_delay</th>\n",
       "      <th>flight</th>\n",
       "      <th>air_time</th>\n",
       "      <th>distance</th>\n",
       "      <th>hour</th>\n",
       "      <th>minute</th>\n",
       "    </tr>\n",
       "  </thead>\n",
       "  <tbody>\n",
       "    <tr>\n",
       "      <th>count</th>\n",
       "      <td>166158.0</td>\n",
       "      <td>166158.000000</td>\n",
       "      <td>166158.000000</td>\n",
       "      <td>161275.000000</td>\n",
       "      <td>166158.000000</td>\n",
       "      <td>161275.000000</td>\n",
       "      <td>161057.000000</td>\n",
       "      <td>166158.000000</td>\n",
       "      <td>160678.00000</td>\n",
       "      <td>166158.000000</td>\n",
       "      <td>160678.000000</td>\n",
       "      <td>166158.000000</td>\n",
       "      <td>166158.000000</td>\n",
       "      <td>166158.000000</td>\n",
       "    </tr>\n",
       "    <tr>\n",
       "      <th>mean</th>\n",
       "      <td>2013.0</td>\n",
       "      <td>3.551836</td>\n",
       "      <td>15.642515</td>\n",
       "      <td>1351.740567</td>\n",
       "      <td>1346.872128</td>\n",
       "      <td>13.715666</td>\n",
       "      <td>1503.949024</td>\n",
       "      <td>1539.488595</td>\n",
       "      <td>8.15129</td>\n",
       "      <td>1970.258651</td>\n",
       "      <td>150.564377</td>\n",
       "      <td>1026.744183</td>\n",
       "      <td>13.208964</td>\n",
       "      <td>25.975752</td>\n",
       "    </tr>\n",
       "    <tr>\n",
       "      <th>std</th>\n",
       "      <td>0.0</td>\n",
       "      <td>1.699779</td>\n",
       "      <td>8.724071</td>\n",
       "      <td>490.410054</td>\n",
       "      <td>468.257735</td>\n",
       "      <td>41.677452</td>\n",
       "      <td>536.363552</td>\n",
       "      <td>498.562131</td>\n",
       "      <td>46.00005</td>\n",
       "      <td>1655.041538</td>\n",
       "      <td>93.399122</td>\n",
       "      <td>726.054153</td>\n",
       "      <td>4.669139</td>\n",
       "      <td>19.279158</td>\n",
       "    </tr>\n",
       "    <tr>\n",
       "      <th>min</th>\n",
       "      <td>2013.0</td>\n",
       "      <td>1.000000</td>\n",
       "      <td>1.000000</td>\n",
       "      <td>1.000000</td>\n",
       "      <td>500.000000</td>\n",
       "      <td>-33.000000</td>\n",
       "      <td>1.000000</td>\n",
       "      <td>1.000000</td>\n",
       "      <td>-86.00000</td>\n",
       "      <td>1.000000</td>\n",
       "      <td>20.000000</td>\n",
       "      <td>80.000000</td>\n",
       "      <td>5.000000</td>\n",
       "      <td>0.000000</td>\n",
       "    </tr>\n",
       "    <tr>\n",
       "      <th>25%</th>\n",
       "      <td>2013.0</td>\n",
       "      <td>2.000000</td>\n",
       "      <td>8.000000</td>\n",
       "      <td>909.000000</td>\n",
       "      <td>909.000000</td>\n",
       "      <td>-5.000000</td>\n",
       "      <td>1106.000000</td>\n",
       "      <td>1125.000000</td>\n",
       "      <td>-16.00000</td>\n",
       "      <td>553.000000</td>\n",
       "      <td>82.000000</td>\n",
       "      <td>502.000000</td>\n",
       "      <td>9.000000</td>\n",
       "      <td>7.000000</td>\n",
       "    </tr>\n",
       "    <tr>\n",
       "      <th>50%</th>\n",
       "      <td>2013.0</td>\n",
       "      <td>4.000000</td>\n",
       "      <td>16.000000</td>\n",
       "      <td>1407.000000</td>\n",
       "      <td>1400.000000</td>\n",
       "      <td>-1.000000</td>\n",
       "      <td>1538.000000</td>\n",
       "      <td>1600.000000</td>\n",
       "      <td>-4.00000</td>\n",
       "      <td>1464.000000</td>\n",
       "      <td>131.000000</td>\n",
       "      <td>872.000000</td>\n",
       "      <td>14.000000</td>\n",
       "      <td>29.000000</td>\n",
       "    </tr>\n",
       "    <tr>\n",
       "      <th>75%</th>\n",
       "      <td>2013.0</td>\n",
       "      <td>5.000000</td>\n",
       "      <td>23.000000</td>\n",
       "      <td>1748.000000</td>\n",
       "      <td>1730.000000</td>\n",
       "      <td>12.000000</td>\n",
       "      <td>1945.000000</td>\n",
       "      <td>1950.000000</td>\n",
       "      <td>15.00000</td>\n",
       "      <td>3697.000000</td>\n",
       "      <td>191.000000</td>\n",
       "      <td>1389.000000</td>\n",
       "      <td>17.000000</td>\n",
       "      <td>44.000000</td>\n",
       "    </tr>\n",
       "    <tr>\n",
       "      <th>max</th>\n",
       "      <td>2013.0</td>\n",
       "      <td>6.000000</td>\n",
       "      <td>31.000000</td>\n",
       "      <td>2400.000000</td>\n",
       "      <td>2359.000000</td>\n",
       "      <td>1301.000000</td>\n",
       "      <td>2400.000000</td>\n",
       "      <td>2359.000000</td>\n",
       "      <td>1272.00000</td>\n",
       "      <td>8500.000000</td>\n",
       "      <td>695.000000</td>\n",
       "      <td>4983.000000</td>\n",
       "      <td>23.000000</td>\n",
       "      <td>59.000000</td>\n",
       "    </tr>\n",
       "  </tbody>\n",
       "</table>\n",
       "</div>"
      ],
      "text/plain": [
       "           year          month            day       dep_time  sched_dep_time  \\\n",
       "count  166158.0  166158.000000  166158.000000  161275.000000   166158.000000   \n",
       "mean     2013.0       3.551836      15.642515    1351.740567     1346.872128   \n",
       "std         0.0       1.699779       8.724071     490.410054      468.257735   \n",
       "min      2013.0       1.000000       1.000000       1.000000      500.000000   \n",
       "25%      2013.0       2.000000       8.000000     909.000000      909.000000   \n",
       "50%      2013.0       4.000000      16.000000    1407.000000     1400.000000   \n",
       "75%      2013.0       5.000000      23.000000    1748.000000     1730.000000   \n",
       "max      2013.0       6.000000      31.000000    2400.000000     2359.000000   \n",
       "\n",
       "           dep_delay       arr_time  sched_arr_time     arr_delay  \\\n",
       "count  161275.000000  161057.000000   166158.000000  160678.00000   \n",
       "mean       13.715666    1503.949024     1539.488595       8.15129   \n",
       "std        41.677452     536.363552      498.562131      46.00005   \n",
       "min       -33.000000       1.000000        1.000000     -86.00000   \n",
       "25%        -5.000000    1106.000000     1125.000000     -16.00000   \n",
       "50%        -1.000000    1538.000000     1600.000000      -4.00000   \n",
       "75%        12.000000    1945.000000     1950.000000      15.00000   \n",
       "max      1301.000000    2400.000000     2359.000000    1272.00000   \n",
       "\n",
       "              flight       air_time       distance           hour  \\\n",
       "count  166158.000000  160678.000000  166158.000000  166158.000000   \n",
       "mean     1970.258651     150.564377    1026.744183      13.208964   \n",
       "std      1655.041538      93.399122     726.054153       4.669139   \n",
       "min         1.000000      20.000000      80.000000       5.000000   \n",
       "25%       553.000000      82.000000     502.000000       9.000000   \n",
       "50%      1464.000000     131.000000     872.000000      14.000000   \n",
       "75%      3697.000000     191.000000    1389.000000      17.000000   \n",
       "max      8500.000000     695.000000    4983.000000      23.000000   \n",
       "\n",
       "              minute  \n",
       "count  166158.000000  \n",
       "mean       25.975752  \n",
       "std        19.279158  \n",
       "min         0.000000  \n",
       "25%         7.000000  \n",
       "50%        29.000000  \n",
       "75%        44.000000  \n",
       "max        59.000000  "
      ]
     },
     "execution_count": 6,
     "metadata": {},
     "output_type": "execute_result"
    }
   ],
   "source": [
    "df.describe()"
   ]
  },
  {
   "cell_type": "markdown",
   "id": "3bc9cadf",
   "metadata": {},
   "source": [
    "**Observation**\n",
    "- Right away we can see that `year` will not be useful as it has a static value of 2013\n",
    "- `month`, `day`, `hour`, `minute` all fall in within the expected ranges\n",
    "- `sched_dep_time`, `sched_arr_time` fall in within the expected ranges\n",
    "- `dep_time`, `arr_time` have a max value at 2400 whereas their scheduled counterparts max at 2359. Changing these to 0 rather than 2400 doesn't seem like it will have that much of an effect since the scheduled counterparts don't have minimums at 0.\n",
    "- the longest delays for dep and arr are around 1300 minutes (we know units from the data dictionary)\n",
    "- `flight`, `air_time`, `distance` are all non-zero, non-negative"
   ]
  },
  {
   "cell_type": "code",
   "execution_count": 7,
   "id": "a5fccbd7",
   "metadata": {
    "ExecuteTime": {
     "end_time": "2023-01-23T22:05:45.233835Z",
     "start_time": "2023-01-23T22:05:45.183836Z"
    }
   },
   "outputs": [],
   "source": [
    "# drop year\n",
    "df.drop(columns=['year'], inplace=True)\n",
    "df_test.drop(columns=['year'], inplace=True)"
   ]
  },
  {
   "cell_type": "code",
   "execution_count": 8,
   "id": "b13ff983",
   "metadata": {
    "ExecuteTime": {
     "end_time": "2023-01-23T22:05:46.754536Z",
     "start_time": "2023-01-23T22:05:46.536317Z"
    }
   },
   "outputs": [
    {
     "data": {
      "text/plain": [
       "month                0\n",
       "day                  0\n",
       "dep_time          4883\n",
       "sched_dep_time       0\n",
       "dep_delay         4883\n",
       "arr_time          5101\n",
       "sched_arr_time       0\n",
       "arr_delay         5480\n",
       "carrier              0\n",
       "flight               0\n",
       "tailnum           1521\n",
       "origin               0\n",
       "dest                 0\n",
       "air_time          5480\n",
       "distance             0\n",
       "hour                 0\n",
       "minute               0\n",
       "time_hour            0\n",
       "dtype: int64"
      ]
     },
     "execution_count": 8,
     "metadata": {},
     "output_type": "execute_result"
    }
   ],
   "source": [
    "df.isnull().sum()"
   ]
  },
  {
   "cell_type": "code",
   "execution_count": 9,
   "id": "8988d84c",
   "metadata": {
    "ExecuteTime": {
     "end_time": "2023-01-23T22:05:49.708067Z",
     "start_time": "2023-01-23T22:05:49.675067Z"
    }
   },
   "outputs": [
    {
     "data": {
      "text/plain": [
       "uniqueid            0\n",
       "month               0\n",
       "day                 0\n",
       "sched_dep_time      0\n",
       "sched_arr_time      0\n",
       "carrier             0\n",
       "flight              0\n",
       "tailnum            52\n",
       "origin              0\n",
       "dest                0\n",
       "hour                0\n",
       "minute              0\n",
       "time_hour           0\n",
       "lateflight        214\n",
       "dtype: int64"
      ]
     },
     "execution_count": 9,
     "metadata": {},
     "output_type": "execute_result"
    }
   ],
   "source": [
    "df_test.isnull().sum()"
   ]
  },
  {
   "cell_type": "code",
   "execution_count": 10,
   "id": "6f984f64",
   "metadata": {
    "ExecuteTime": {
     "end_time": "2023-01-23T22:05:53.241585Z",
     "start_time": "2023-01-23T22:05:53.231585Z"
    }
   },
   "outputs": [],
   "source": [
    "# no way to impute those late flights\n",
    "df_test = df_test[~df_test.lateflight.isnull()]"
   ]
  },
  {
   "cell_type": "markdown",
   "id": "b826281e",
   "metadata": {},
   "source": [
    "# Target Variable"
   ]
  },
  {
   "cell_type": "markdown",
   "id": "10a12b9c",
   "metadata": {},
   "source": [
    "The dataset currently does not have our target feature included, so that will need to be engineered.\n",
    "\n",
    "The definition of `lateflight` is \"the flight arrived after the scheduled arrival time\". There exists a variable in the dataset called `arr_delay` that we can use."
   ]
  },
  {
   "cell_type": "code",
   "execution_count": 11,
   "id": "54592076",
   "metadata": {
    "ExecuteTime": {
     "end_time": "2023-01-23T22:05:58.191507Z",
     "start_time": "2023-01-23T22:05:58.174577Z"
    }
   },
   "outputs": [
    {
     "data": {
      "text/plain": [
       "5480"
      ]
     },
     "execution_count": 11,
     "metadata": {},
     "output_type": "execute_result"
    }
   ],
   "source": [
    "# check completeness for arr_delay\n",
    "df.arr_delay.isnull().sum()"
   ]
  },
  {
   "cell_type": "markdown",
   "id": "658b9ef2",
   "metadata": {},
   "source": [
    "**Observation** 3% of records do not `arr_delay` non-null"
   ]
  },
  {
   "cell_type": "markdown",
   "id": "e0000faf",
   "metadata": {},
   "source": [
    "Since `arr_delay` appears to be a function of `sched_arr_time` and `arr_time`, let's see if those variables are complete to maybe engineer them that way."
   ]
  },
  {
   "cell_type": "code",
   "execution_count": 12,
   "id": "edda5b89",
   "metadata": {
    "ExecuteTime": {
     "end_time": "2023-01-23T22:05:59.261428Z",
     "start_time": "2023-01-23T22:05:59.245428Z"
    }
   },
   "outputs": [
    {
     "data": {
      "text/plain": [
       "0"
      ]
     },
     "execution_count": 12,
     "metadata": {},
     "output_type": "execute_result"
    }
   ],
   "source": [
    "# check completeness for arr_time\n",
    "df.sched_arr_time.isnull().sum()"
   ]
  },
  {
   "cell_type": "code",
   "execution_count": 13,
   "id": "52baf100",
   "metadata": {
    "ExecuteTime": {
     "end_time": "2023-01-23T22:05:59.498461Z",
     "start_time": "2023-01-23T22:05:59.488391Z"
    }
   },
   "outputs": [
    {
     "data": {
      "text/plain": [
       "5101"
      ]
     },
     "execution_count": 13,
     "metadata": {},
     "output_type": "execute_result"
    }
   ],
   "source": [
    "# check completeness for sched_arr_time\n",
    "df.arr_time.isnull().sum()"
   ]
  },
  {
   "cell_type": "markdown",
   "id": "6c8ea61a",
   "metadata": {},
   "source": [
    "**Observation** Every flight has a `sched_arr_time` but 5,101 flights do not have information for arrival time.\n",
    "\n",
    "There is another indicator called `air_time` that might be able to fill in the gaps for `arr_time` and `arr_delay`\n"
   ]
  },
  {
   "cell_type": "code",
   "execution_count": 14,
   "id": "eb43afa8",
   "metadata": {
    "ExecuteTime": {
     "end_time": "2023-01-23T22:05:59.936897Z",
     "start_time": "2023-01-23T22:05:59.926210Z"
    }
   },
   "outputs": [
    {
     "data": {
      "text/plain": [
       "0"
      ]
     },
     "execution_count": 14,
     "metadata": {},
     "output_type": "execute_result"
    }
   ],
   "source": [
    "# find records where arr_delay and arr_time are null, but air_time is not\n",
    "df[(df.arr_delay.isnull())&(df.arr_time.isnull())&(~df.air_time.isnull())]\\\n",
    ".shape[0]"
   ]
  },
  {
   "cell_type": "markdown",
   "id": "4f013e9c",
   "metadata": {},
   "source": [
    "**Observation** Because there are no records where we can infer null arr_time and null arr_delay from air_time, we need to drop records where those two features are null"
   ]
  },
  {
   "cell_type": "code",
   "execution_count": 15,
   "id": "e7b91d65",
   "metadata": {
    "ExecuteTime": {
     "end_time": "2023-01-23T22:06:00.358934Z",
     "start_time": "2023-01-23T22:06:00.311301Z"
    }
   },
   "outputs": [],
   "source": [
    "# drop records where arr_delay is null as well as arr_time\n",
    "df = df[~((df.arr_delay.isnull())&(df.arr_time.isnull()))]"
   ]
  },
  {
   "cell_type": "code",
   "execution_count": 16,
   "id": "d8a69bef",
   "metadata": {
    "ExecuteTime": {
     "end_time": "2023-01-23T22:06:00.562488Z",
     "start_time": "2023-01-23T22:06:00.553489Z"
    }
   },
   "outputs": [
    {
     "data": {
      "text/plain": [
       "379"
      ]
     },
     "execution_count": 16,
     "metadata": {},
     "output_type": "execute_result"
    }
   ],
   "source": [
    "# look at remaining nulls\n",
    "df.arr_delay.isnull().sum()"
   ]
  },
  {
   "cell_type": "code",
   "execution_count": 17,
   "id": "a6d68d79",
   "metadata": {
    "ExecuteTime": {
     "end_time": "2023-01-23T22:06:02.411412Z",
     "start_time": "2023-01-23T22:06:02.400412Z"
    }
   },
   "outputs": [
    {
     "data": {
      "text/plain": [
       "379"
      ]
     },
     "execution_count": 17,
     "metadata": {},
     "output_type": "execute_result"
    }
   ],
   "source": [
    "# look at air_time completeness for this subset\n",
    "df[df.arr_delay.isnull()].air_time.isnull().sum()"
   ]
  },
  {
   "cell_type": "markdown",
   "id": "5b4eee49",
   "metadata": {},
   "source": [
    "**Observation** Every single remaining null for `arr_delay` has a null `air_time`. Unfortunately, even though extremely unlikely, I will drop these as well because a flight might have over 24 hours in the air"
   ]
  },
  {
   "cell_type": "code",
   "execution_count": 18,
   "id": "9c3abc96",
   "metadata": {
    "ExecuteTime": {
     "end_time": "2023-01-23T22:06:03.156587Z",
     "start_time": "2023-01-23T22:06:03.101600Z"
    }
   },
   "outputs": [],
   "source": [
    "# drop remaining arr_delay nulls\n",
    "df = df[~df.arr_delay.isnull()]"
   ]
  },
  {
   "cell_type": "markdown",
   "id": "abd280be",
   "metadata": {},
   "source": [
    "Finally, we can create our target variable from flights with `arr_delay` greater than 0 minutes"
   ]
  },
  {
   "cell_type": "code",
   "execution_count": 19,
   "id": "c766f01e",
   "metadata": {
    "ExecuteTime": {
     "end_time": "2023-01-23T22:06:04.443515Z",
     "start_time": "2023-01-23T22:06:04.377517Z"
    }
   },
   "outputs": [],
   "source": [
    "# create target variable\n",
    "df['lateflight'] = df.arr_delay.apply(lambda x: x>0).astype(int)"
   ]
  },
  {
   "cell_type": "code",
   "execution_count": 20,
   "id": "6425cf4e",
   "metadata": {
    "ExecuteTime": {
     "end_time": "2023-01-23T22:06:05.197913Z",
     "start_time": "2023-01-23T22:06:04.753676Z"
    }
   },
   "outputs": [
    {
     "data": {
      "image/png": "[encoded data removed]",
      "text/plain": [
       "<Figure size 1440x360 with 2 Axes>"
      ]
     },
     "metadata": {
      "needs_background": "light"
     },
     "output_type": "display_data"
    }
   ],
   "source": [
    "fig, ax = plt.subplots(1,2, figsize=(20,5))\n",
    "\n",
    "df.groupby('lateflight')['day'].count().plot(kind='barh', ax=ax[0])\n",
    "df.lateflight.value_counts(normalize=True).plot(kind='barh',\n",
    "                                                ax=ax[1],\n",
    "                                                color='rebeccapurple')\n",
    "\n",
    "ax[0].set_xlabel('# of Records')\n",
    "ax[0].set_ylabel('Is LateFlight')\n",
    "ax[0].bar_label(ax[0].containers[0],label_type='center', color='w')\n",
    "\n",
    "ax[1].set_xlabel('% of Records')\n",
    "ax[1].set_ylabel('Is LateFlight')\n",
    "ax[1].bar_label(ax[1].containers[0],\n",
    "                label_type='center',\n",
    "                color='w',\n",
    "                fmt='%.2f')\n",
    "\n",
    "fig.suptitle('Lateflight Target Variable Distribution');"
   ]
  },
  {
   "cell_type": "markdown",
   "id": "f3eb5274",
   "metadata": {},
   "source": [
    "**Observation** 58% - 42% split in our target variable does not indicate a significant class imbalance. The baseline for our model will be 58%"
   ]
  },
  {
   "cell_type": "markdown",
   "id": "0a799a6a",
   "metadata": {},
   "source": [
    "# Review Variables"
   ]
  },
  {
   "cell_type": "code",
   "execution_count": 21,
   "id": "154efba1",
   "metadata": {
    "ExecuteTime": {
     "end_time": "2023-01-23T22:06:08.948209Z",
     "start_time": "2023-01-23T22:06:08.759573Z"
    }
   },
   "outputs": [
    {
     "data": {
      "text/plain": [
       "month             0\n",
       "day               0\n",
       "dep_time          0\n",
       "sched_dep_time    0\n",
       "dep_delay         0\n",
       "arr_time          0\n",
       "sched_arr_time    0\n",
       "arr_delay         0\n",
       "carrier           0\n",
       "flight            0\n",
       "tailnum           0\n",
       "origin            0\n",
       "dest              0\n",
       "air_time          0\n",
       "distance          0\n",
       "hour              0\n",
       "minute            0\n",
       "time_hour         0\n",
       "lateflight        0\n",
       "dtype: int64"
      ]
     },
     "execution_count": 21,
     "metadata": {},
     "output_type": "execute_result"
    }
   ],
   "source": [
    "df.isnull().sum()"
   ]
  },
  {
   "cell_type": "markdown",
   "id": "83991471",
   "metadata": {},
   "source": [
    "**Observation** No more nulls!"
   ]
  },
  {
   "cell_type": "markdown",
   "id": "d06429ce",
   "metadata": {},
   "source": [
    "To allow minutes to represent the portion of the hour for more appropriate coefficients down the line, adjust minutes to be a portion of the hour for:\n",
    "- `dep_time`,`sched_dep_time`\n",
    "- `arr_time`, `sched_arr_time`\n",
    "\n",
    "However, since the test set does not know the actual `dep_time` or `arr_time`, drop those."
   ]
  },
  {
   "cell_type": "code",
   "execution_count": 22,
   "id": "55d6f8de",
   "metadata": {
    "ExecuteTime": {
     "end_time": "2023-01-23T22:06:11.664612Z",
     "start_time": "2023-01-23T22:06:11.574526Z"
    }
   },
   "outputs": [
    {
     "data": {
      "text/html": [
       "<div>\n",
       "<style scoped>\n",
       "    .dataframe tbody tr th:only-of-type {\n",
       "        vertical-align: middle;\n",
       "    }\n",
       "\n",
       "    .dataframe tbody tr th {\n",
       "        vertical-align: top;\n",
       "    }\n",
       "\n",
       "    .dataframe thead th {\n",
       "        text-align: right;\n",
       "    }\n",
       "</style>\n",
       "<table border=\"1\" class=\"dataframe\">\n",
       "  <thead>\n",
       "    <tr style=\"text-align: right;\">\n",
       "      <th></th>\n",
       "      <th>sched_dep_time</th>\n",
       "      <th>sched_arr_time</th>\n",
       "    </tr>\n",
       "  </thead>\n",
       "  <tbody>\n",
       "    <tr>\n",
       "      <th>count</th>\n",
       "      <td>160678.000000</td>\n",
       "      <td>160678.000000</td>\n",
       "    </tr>\n",
       "    <tr>\n",
       "      <th>mean</th>\n",
       "      <td>13.594845</td>\n",
       "      <td>15.544329</td>\n",
       "    </tr>\n",
       "    <tr>\n",
       "      <th>std</th>\n",
       "      <td>4.696426</td>\n",
       "      <td>4.999540</td>\n",
       "    </tr>\n",
       "    <tr>\n",
       "      <th>min</th>\n",
       "      <td>5.000000</td>\n",
       "      <td>0.016667</td>\n",
       "    </tr>\n",
       "    <tr>\n",
       "      <th>25%</th>\n",
       "      <td>9.083333</td>\n",
       "      <td>11.400000</td>\n",
       "    </tr>\n",
       "    <tr>\n",
       "      <th>50%</th>\n",
       "      <td>13.983333</td>\n",
       "      <td>15.916667</td>\n",
       "    </tr>\n",
       "    <tr>\n",
       "      <th>75%</th>\n",
       "      <td>17.483333</td>\n",
       "      <td>19.783333</td>\n",
       "    </tr>\n",
       "    <tr>\n",
       "      <th>max</th>\n",
       "      <td>23.983333</td>\n",
       "      <td>23.983333</td>\n",
       "    </tr>\n",
       "  </tbody>\n",
       "</table>\n",
       "</div>"
      ],
      "text/plain": [
       "       sched_dep_time  sched_arr_time\n",
       "count   160678.000000   160678.000000\n",
       "mean        13.594845       15.544329\n",
       "std          4.696426        4.999540\n",
       "min          5.000000        0.016667\n",
       "25%          9.083333       11.400000\n",
       "50%         13.983333       15.916667\n",
       "75%         17.483333       19.783333\n",
       "max         23.983333       23.983333"
      ]
     },
     "execution_count": 22,
     "metadata": {},
     "output_type": "execute_result"
    }
   ],
   "source": [
    "for i in ['sched_dep_time', 'sched_arr_time']:\n",
    "    df[i]=(df[i]/100).astype(int) + (df[i] % 100)/60\n",
    "    df_test[i]=(df_test[i]/100).astype(int) + (df_test[i] % 100)/60\n",
    "    \n",
    "# confirm\n",
    "df[['sched_dep_time', 'sched_arr_time']].describe()"
   ]
  },
  {
   "cell_type": "code",
   "execution_count": 23,
   "id": "55d3b27a",
   "metadata": {
    "ExecuteTime": {
     "end_time": "2023-01-23T22:06:13.840010Z",
     "start_time": "2023-01-23T22:06:13.817010Z"
    }
   },
   "outputs": [
    {
     "data": {
      "text/html": [
       "<div>\n",
       "<style scoped>\n",
       "    .dataframe tbody tr th:only-of-type {\n",
       "        vertical-align: middle;\n",
       "    }\n",
       "\n",
       "    .dataframe tbody tr th {\n",
       "        vertical-align: top;\n",
       "    }\n",
       "\n",
       "    .dataframe thead th {\n",
       "        text-align: right;\n",
       "    }\n",
       "</style>\n",
       "<table border=\"1\" class=\"dataframe\">\n",
       "  <thead>\n",
       "    <tr style=\"text-align: right;\">\n",
       "      <th></th>\n",
       "      <th>sched_dep_time</th>\n",
       "      <th>sched_arr_time</th>\n",
       "    </tr>\n",
       "  </thead>\n",
       "  <tbody>\n",
       "    <tr>\n",
       "      <th>count</th>\n",
       "      <td>5786.000000</td>\n",
       "      <td>5786.000000</td>\n",
       "    </tr>\n",
       "    <tr>\n",
       "      <th>mean</th>\n",
       "      <td>13.471192</td>\n",
       "      <td>15.177584</td>\n",
       "    </tr>\n",
       "    <tr>\n",
       "      <th>std</th>\n",
       "      <td>4.765757</td>\n",
       "      <td>5.186254</td>\n",
       "    </tr>\n",
       "    <tr>\n",
       "      <th>min</th>\n",
       "      <td>5.000000</td>\n",
       "      <td>0.016667</td>\n",
       "    </tr>\n",
       "    <tr>\n",
       "      <th>25%</th>\n",
       "      <td>9.000000</td>\n",
       "      <td>10.966667</td>\n",
       "    </tr>\n",
       "    <tr>\n",
       "      <th>50%</th>\n",
       "      <td>13.666667</td>\n",
       "      <td>15.333333</td>\n",
       "    </tr>\n",
       "    <tr>\n",
       "      <th>75%</th>\n",
       "      <td>17.333333</td>\n",
       "      <td>19.450000</td>\n",
       "    </tr>\n",
       "    <tr>\n",
       "      <th>max</th>\n",
       "      <td>23.983333</td>\n",
       "      <td>23.983333</td>\n",
       "    </tr>\n",
       "  </tbody>\n",
       "</table>\n",
       "</div>"
      ],
      "text/plain": [
       "       sched_dep_time  sched_arr_time\n",
       "count     5786.000000     5786.000000\n",
       "mean        13.471192       15.177584\n",
       "std          4.765757        5.186254\n",
       "min          5.000000        0.016667\n",
       "25%          9.000000       10.966667\n",
       "50%         13.666667       15.333333\n",
       "75%         17.333333       19.450000\n",
       "max         23.983333       23.983333"
      ]
     },
     "execution_count": 23,
     "metadata": {},
     "output_type": "execute_result"
    }
   ],
   "source": [
    "df_test[['sched_dep_time', 'sched_arr_time']].describe()"
   ]
  },
  {
   "cell_type": "code",
   "execution_count": 24,
   "id": "e9f3d048",
   "metadata": {
    "ExecuteTime": {
     "end_time": "2023-01-23T22:06:17.849639Z",
     "start_time": "2023-01-23T22:06:17.800639Z"
    }
   },
   "outputs": [],
   "source": [
    "# drop dep_time and arr_time\n",
    "df.drop(columns=['dep_time', 'arr_time'], inplace=True)"
   ]
  },
  {
   "cell_type": "markdown",
   "id": "7181864d",
   "metadata": {},
   "source": [
    "`dep_delay`, `arr_delay` are also features that will be dropped as they relate to the actual flight details.\n",
    "\n",
    "`air_time` relates to the actual flight and will be dropped.\n",
    "\n",
    "`distance` will be kept and generated for the test set based on origin-destination pairings."
   ]
  },
  {
   "cell_type": "code",
   "execution_count": 25,
   "id": "8a4ea11c",
   "metadata": {
    "ExecuteTime": {
     "end_time": "2023-01-23T22:06:37.641418Z",
     "start_time": "2023-01-23T22:06:37.590417Z"
    }
   },
   "outputs": [],
   "source": [
    "# drop\n",
    "df.drop(columns=['air_time'], inplace=True)"
   ]
  },
  {
   "cell_type": "markdown",
   "id": "2f4dc3c5",
   "metadata": {},
   "source": [
    "#### `month`"
   ]
  },
  {
   "cell_type": "code",
   "execution_count": 27,
   "id": "5615b293",
   "metadata": {
    "ExecuteTime": {
     "end_time": "2023-01-23T22:06:43.424870Z",
     "start_time": "2023-01-23T22:06:43.142867Z"
    }
   },
   "outputs": [
    {
     "data": {
      "image/png": "[encoded data removed]",
      "text/plain": [
       "<Figure size 720x360 with 1 Axes>"
      ]
     },
     "metadata": {
      "needs_background": "light"
     },
     "output_type": "display_data"
    }
   ],
   "source": [
    "distgraph('month',df.month.unique()[::-1],'Month of Flight')"
   ]
  },
  {
   "cell_type": "markdown",
   "id": "139c96c9",
   "metadata": {},
   "source": [
    "**Observation** Distribution of flights appears in line with distribution of days within the sample"
   ]
  },
  {
   "cell_type": "code",
   "execution_count": 29,
   "id": "fc9bea12",
   "metadata": {
    "ExecuteTime": {
     "end_time": "2023-01-23T22:06:48.049852Z",
     "start_time": "2023-01-23T22:06:47.904851Z"
    }
   },
   "outputs": [
    {
     "data": {
      "text/plain": [
       "0.0059769982150451265"
      ]
     },
     "execution_count": 29,
     "metadata": {},
     "output_type": "execute_result"
    }
   ],
   "source": [
    "df.corr().loc['lateflight','month']"
   ]
  },
  {
   "cell_type": "markdown",
   "id": "405c6504",
   "metadata": {},
   "source": [
    "#### `day`"
   ]
  },
  {
   "cell_type": "code",
   "execution_count": 30,
   "id": "41b8b173",
   "metadata": {
    "ExecuteTime": {
     "end_time": "2023-01-23T22:06:54.240933Z",
     "start_time": "2023-01-23T22:06:53.534339Z"
    }
   },
   "outputs": [
    {
     "data": {
      "image/png": "[encoded data removed]",
      "text/plain": [
       "<Figure size 720x540 with 1 Axes>"
      ]
     },
     "metadata": {
      "needs_background": "light"
     },
     "output_type": "display_data"
    }
   ],
   "source": [
    "distgraph('day',df.day.unique()[::-1],'Day of Flight')\n",
    "fig = plt.gcf()\n",
    "fig.set_size_inches(10, 7.5)"
   ]
  },
  {
   "cell_type": "markdown",
   "id": "4a1fbec6",
   "metadata": {},
   "source": [
    "**Observation** This information really isn't that helpful. What would be far more useful would be day of week"
   ]
  },
  {
   "cell_type": "code",
   "execution_count": 31,
   "id": "8aa0e209",
   "metadata": {
    "ExecuteTime": {
     "end_time": "2023-01-23T22:06:54.646356Z",
     "start_time": "2023-01-23T22:06:54.376861Z"
    }
   },
   "outputs": [
    {
     "data": {
      "text/plain": [
       "<matplotlib.collections.PathCollection at 0x28dafc1a5e0>"
      ]
     },
     "execution_count": 31,
     "metadata": {},
     "output_type": "execute_result"
    },
    {
     "data": {
      "image/png": "[encoded data removed]",
      "text/plain": [
       "<Figure size 432x288 with 1 Axes>"
      ]
     },
     "metadata": {
      "needs_background": "light"
     },
     "output_type": "display_data"
    }
   ],
   "source": [
    "plt.scatter(df.groupby('day').mean().reset_index().day,\n",
    "            df.groupby('day').mean().lateflight)"
   ]
  },
  {
   "cell_type": "code",
   "execution_count": 32,
   "id": "9b6140b9",
   "metadata": {
    "ExecuteTime": {
     "end_time": "2023-01-23T22:06:57.783344Z",
     "start_time": "2023-01-23T22:06:57.630343Z"
    }
   },
   "outputs": [
    {
     "data": {
      "text/plain": [
       "0.02810766824171155"
      ]
     },
     "execution_count": 32,
     "metadata": {},
     "output_type": "execute_result"
    }
   ],
   "source": [
    "df.corr().loc['lateflight','day']"
   ]
  },
  {
   "cell_type": "code",
   "execution_count": 33,
   "id": "190caf68",
   "metadata": {
    "ExecuteTime": {
     "end_time": "2023-01-23T22:06:58.295627Z",
     "start_time": "2023-01-23T22:06:58.287628Z"
    }
   },
   "outputs": [],
   "source": [
    "days_in_month = {1: 31,\n",
    "                 2: 28,\n",
    "                 3: 31,\n",
    "                 4: 30,\n",
    "                 5: 31,\n",
    "                 6: 30,\n",
    "                 7: 31}"
   ]
  },
  {
   "cell_type": "code",
   "execution_count": 34,
   "id": "dc9ea60c",
   "metadata": {
    "ExecuteTime": {
     "end_time": "2023-01-23T22:07:00.016777Z",
     "start_time": "2023-01-23T22:06:59.886732Z"
    },
    "scrolled": true
   },
   "outputs": [],
   "source": [
    "df['month_penetration'] = df.day / df.month.map(lambda x: days_in_month[x])\n",
    "df_test['month_penetration'] =\\\n",
    "        df_test.day / df_test.month.map(lambda x: days_in_month[x])"
   ]
  },
  {
   "cell_type": "code",
   "execution_count": 35,
   "id": "9c03621a",
   "metadata": {
    "ExecuteTime": {
     "end_time": "2023-01-23T22:07:00.655767Z",
     "start_time": "2023-01-23T22:07:00.303719Z"
    }
   },
   "outputs": [
    {
     "data": {
      "text/plain": [
       "<matplotlib.collections.PathCollection at 0x28daf102970>"
      ]
     },
     "execution_count": 35,
     "metadata": {},
     "output_type": "execute_result"
    },
    {
     "data": {
      "image/png": "[encoded data removed]",
      "text/plain": [
       "<Figure size 432x288 with 1 Axes>"
      ]
     },
     "metadata": {
      "needs_background": "light"
     },
     "output_type": "display_data"
    }
   ],
   "source": [
    "plt.scatter(df.groupby('month_penetration').mean().reset_index().month_penetration,\n",
    "            df.groupby('month_penetration').mean().lateflight)"
   ]
  },
  {
   "cell_type": "markdown",
   "id": "6ffbe6a1",
   "metadata": {},
   "source": [
    "#### `weekday` (generated)"
   ]
  },
  {
   "cell_type": "code",
   "execution_count": 36,
   "id": "05c5af42",
   "metadata": {
    "ExecuteTime": {
     "end_time": "2023-01-23T22:07:17.205949Z",
     "start_time": "2023-01-23T22:07:17.007951Z"
    }
   },
   "outputs": [
    {
     "data": {
      "text/plain": [
       "True"
      ]
     },
     "execution_count": 36,
     "metadata": {},
     "output_type": "execute_result"
    }
   ],
   "source": [
    "# double check that the time_hour object matches the day and month of respective features\n",
    "sum(pd.to_datetime(df.time_hour).dt.day == df.day) == df.shape[0]\\\n",
    "& sum(pd.to_datetime(df.time_hour).dt.month == df.month) == df.shape[0]"
   ]
  },
  {
   "cell_type": "code",
   "execution_count": 37,
   "id": "7605d366",
   "metadata": {
    "ExecuteTime": {
     "end_time": "2023-01-23T22:07:17.315879Z",
     "start_time": "2023-01-23T22:07:17.238905Z"
    }
   },
   "outputs": [],
   "source": [
    "# create weekday using pd dt\n",
    "df['weekday'] = pd.to_datetime(df.time_hour).dt.weekday\n",
    "df_test['weekday'] = pd.to_datetime(df_test.time_hour).dt.weekday"
   ]
  },
  {
   "cell_type": "code",
   "execution_count": 38,
   "id": "3cd730d7",
   "metadata": {
    "ExecuteTime": {
     "end_time": "2023-01-23T22:07:18.004820Z",
     "start_time": "2023-01-23T22:07:17.941752Z"
    }
   },
   "outputs": [],
   "source": [
    "# update int values to day names\n",
    "weekday_map = ['monday','tuesday','wednesday','thursday','friday',\n",
    "               'saturday','sunday']\n",
    "df['weekday'] = df['weekday'].apply(lambda x: weekday_map[x])\n",
    "df_test['weekday'] = df_test['weekday'].apply(lambda x: weekday_map[x])"
   ]
  },
  {
   "cell_type": "markdown",
   "id": "3a0f18f1",
   "metadata": {},
   "source": [
    "**Observation** Interestingly, Saturdays are the least common weekday in the dataset"
   ]
  },
  {
   "cell_type": "code",
   "execution_count": 39,
   "id": "a7d37f54",
   "metadata": {
    "ExecuteTime": {
     "end_time": "2023-01-23T22:07:20.882573Z",
     "start_time": "2023-01-23T22:07:20.241572Z"
    }
   },
   "outputs": [
    {
     "data": {
      "image/png": "[encoded data removed]",
      "text/plain": [
       "<Figure size 720x360 with 1 Axes>"
      ]
     },
     "metadata": {
      "needs_background": "light"
     },
     "output_type": "display_data"
    },
    {
     "data": {
      "image/png": "[encoded data removed]",
      "text/plain": [
       "<Figure size 720x576 with 1 Axes>"
      ]
     },
     "metadata": {
      "needs_background": "light"
     },
     "output_type": "display_data"
    }
   ],
   "source": [
    "distgraph('weekday',weekday_map[::-1],'Weekday of Flight')\n",
    "propgraph('weekday',weekday_map[::-1],'Weekday of Flight')"
   ]
  },
  {
   "cell_type": "code",
   "execution_count": 40,
   "id": "bb59ee47",
   "metadata": {
    "ExecuteTime": {
     "end_time": "2023-01-23T22:07:24.300470Z",
     "start_time": "2023-01-23T22:07:24.167469Z"
    }
   },
   "outputs": [],
   "source": [
    "# dummy them\n",
    "df = df.join(pd.get_dummies(df.weekday, prefix='dow').drop(columns=['dow_saturday']))\n",
    "df_test = df_test.join(pd.get_dummies(df_test.weekday, prefix='dow').drop(columns=['dow_saturday']))\n",
    "\n",
    "df.drop(columns=['weekday'], inplace=True)\n",
    "df_test.drop(columns=['weekday'], inplace=True)"
   ]
  },
  {
   "cell_type": "code",
   "execution_count": 41,
   "id": "1503abca",
   "metadata": {
    "ExecuteTime": {
     "end_time": "2023-01-23T22:07:25.932719Z",
     "start_time": "2023-01-23T22:07:25.879679Z"
    }
   },
   "outputs": [],
   "source": [
    "# no longer need month\n",
    "df.drop(columns=['month'], inplace=True)\n",
    "df_test.drop(columns=['month'], inplace=True)"
   ]
  },
  {
   "cell_type": "markdown",
   "id": "53cfe6f5",
   "metadata": {},
   "source": [
    "#### `sched_dep_time`"
   ]
  },
  {
   "cell_type": "code",
   "execution_count": 42,
   "id": "ef35990d",
   "metadata": {
    "ExecuteTime": {
     "end_time": "2023-01-23T22:07:28.348157Z",
     "start_time": "2023-01-23T22:07:27.974728Z"
    },
    "scrolled": false
   },
   "outputs": [
    {
     "data": {
      "image/png": "[encoded data removed]",
      "text/plain": [
       "<Figure size 1440x360 with 1 Axes>"
      ]
     },
     "metadata": {
      "needs_background": "light"
     },
     "output_type": "display_data"
    }
   ],
   "source": [
    "fig, ax = plt.subplots(figsize=(20,5))\n",
    "\n",
    "ax.hist(df.sched_dep_time, bins=np.arange(0,25),\n",
    "        align='left', rwidth=0.8)\n",
    "ax.set_xticks(np.arange(0,25));"
   ]
  },
  {
   "cell_type": "markdown",
   "id": "7fadbb4d",
   "metadata": {},
   "source": [
    "**Observation** Flights are not scheduled before 5 AM, with the highest peaks at 6 and 8 PM. Evening flights are decreasing from 5 PM onward with drastic drops from 7 to 8 to 9 to 10 PM"
   ]
  },
  {
   "cell_type": "markdown",
   "id": "d53b2a36",
   "metadata": {},
   "source": [
    "#### `sched_arr_time`"
   ]
  },
  {
   "cell_type": "code",
   "execution_count": 43,
   "id": "b4d2b47c",
   "metadata": {
    "ExecuteTime": {
     "end_time": "2023-01-23T22:07:31.953278Z",
     "start_time": "2023-01-23T22:07:31.582579Z"
    }
   },
   "outputs": [
    {
     "data": {
      "image/png": "[encoded data removed]",
      "text/plain": [
       "<Figure size 1440x360 with 1 Axes>"
      ]
     },
     "metadata": {
      "needs_background": "light"
     },
     "output_type": "display_data"
    }
   ],
   "source": [
    "fig, ax = plt.subplots(figsize=(20,5))\n",
    "\n",
    "ax.hist(df.sched_arr_time, bins=np.arange(0,25),\n",
    "        align='left', rwidth=0.8)\n",
    "ax.set_xticks(np.arange(0,25));"
   ]
  },
  {
   "cell_type": "markdown",
   "id": "4be57caa",
   "metadata": {},
   "source": [
    "#### `delayedflight` (generated)"
   ]
  },
  {
   "cell_type": "code",
   "execution_count": 44,
   "id": "e012556d",
   "metadata": {
    "ExecuteTime": {
     "end_time": "2023-01-23T22:07:34.079593Z",
     "start_time": "2023-01-23T22:07:34.062579Z"
    }
   },
   "outputs": [
    {
     "data": {
      "text/plain": [
       "0"
      ]
     },
     "execution_count": 44,
     "metadata": {},
     "output_type": "execute_result"
    }
   ],
   "source": [
    "# check completeness for dep_delay\n",
    "df.dep_delay.isnull().sum()"
   ]
  },
  {
   "cell_type": "code",
   "execution_count": 45,
   "id": "175652b3",
   "metadata": {
    "ExecuteTime": {
     "end_time": "2023-01-23T22:07:36.105460Z",
     "start_time": "2023-01-23T22:07:36.032529Z"
    }
   },
   "outputs": [],
   "source": [
    "# create delayedflight\n",
    "df['delayedflight'] = df.dep_delay.apply(lambda x: x>0).astype(int)"
   ]
  },
  {
   "cell_type": "code",
   "execution_count": 46,
   "id": "2714235e",
   "metadata": {
    "ExecuteTime": {
     "end_time": "2023-01-23T22:07:36.713448Z",
     "start_time": "2023-01-23T22:07:36.678383Z"
    }
   },
   "outputs": [
    {
     "data": {
      "text/html": [
       "<div>\n",
       "<style scoped>\n",
       "    .dataframe tbody tr th:only-of-type {\n",
       "        vertical-align: middle;\n",
       "    }\n",
       "\n",
       "    .dataframe tbody tr th {\n",
       "        vertical-align: top;\n",
       "    }\n",
       "\n",
       "    .dataframe thead th {\n",
       "        text-align: right;\n",
       "    }\n",
       "</style>\n",
       "<table border=\"1\" class=\"dataframe\">\n",
       "  <thead>\n",
       "    <tr style=\"text-align: right;\">\n",
       "      <th>lateflight</th>\n",
       "      <th>0</th>\n",
       "      <th>1</th>\n",
       "    </tr>\n",
       "    <tr>\n",
       "      <th>delayedflight</th>\n",
       "      <th></th>\n",
       "      <th></th>\n",
       "    </tr>\n",
       "  </thead>\n",
       "  <tbody>\n",
       "    <tr>\n",
       "      <th>0</th>\n",
       "      <td>0.475031</td>\n",
       "      <td>0.125767</td>\n",
       "    </tr>\n",
       "    <tr>\n",
       "      <th>1</th>\n",
       "      <td>0.105683</td>\n",
       "      <td>0.293519</td>\n",
       "    </tr>\n",
       "  </tbody>\n",
       "</table>\n",
       "</div>"
      ],
      "text/plain": [
       "lateflight            0         1\n",
       "delayedflight                    \n",
       "0              0.475031  0.125767\n",
       "1              0.105683  0.293519"
      ]
     },
     "execution_count": 46,
     "metadata": {},
     "output_type": "execute_result"
    }
   ],
   "source": [
    "(df.groupby(['delayedflight','lateflight']).size().unstack() / df.shape[0])"
   ]
  },
  {
   "cell_type": "markdown",
   "id": "e6af09b5",
   "metadata": {},
   "source": [
    "#### `carrier`"
   ]
  },
  {
   "cell_type": "code",
   "execution_count": 47,
   "id": "3e5b9978",
   "metadata": {
    "ExecuteTime": {
     "end_time": "2023-01-23T22:07:41.170588Z",
     "start_time": "2023-01-23T22:07:41.149582Z"
    }
   },
   "outputs": [
    {
     "data": {
      "text/plain": [
       "array(['UA', 'AA', 'B6', 'DL', 'EV', 'MQ', 'US', 'WN', 'VX', 'FL', 'AS',\n",
       "       '9E', 'F9', 'HA', 'YV', 'OO'], dtype=object)"
      ]
     },
     "execution_count": 47,
     "metadata": {},
     "output_type": "execute_result"
    }
   ],
   "source": [
    "df.carrier.unique()"
   ]
  },
  {
   "cell_type": "code",
   "execution_count": 48,
   "id": "d005a119",
   "metadata": {
    "ExecuteTime": {
     "end_time": "2023-01-23T22:07:42.065711Z",
     "start_time": "2023-01-23T22:07:41.863545Z"
    }
   },
   "outputs": [
    {
     "data": {
      "text/plain": [
       "[]"
      ]
     },
     "execution_count": 48,
     "metadata": {},
     "output_type": "execute_result"
    }
   ],
   "source": [
    "# verify all carriers in test set\n",
    "[v for v in df_test.carrier.unique() if v not in df.carrier.unique()]"
   ]
  },
  {
   "cell_type": "code",
   "execution_count": 49,
   "id": "07f24407",
   "metadata": {
    "ExecuteTime": {
     "end_time": "2023-01-23T22:07:42.930344Z",
     "start_time": "2023-01-23T22:07:42.520255Z"
    }
   },
   "outputs": [
    {
     "data": {
      "image/png": "[encoded data removed]",
      "text/plain": [
       "<Figure size 720x540 with 1 Axes>"
      ]
     },
     "metadata": {
      "needs_background": "light"
     },
     "output_type": "display_data"
    }
   ],
   "source": [
    "distgraph('carrier',df.carrier.value_counts(sort=True,ascending=True).index,'Flight Carrier')\n",
    "fig = plt.gcf()\n",
    "fig.set_size_inches(10, 7.5)\n"
   ]
  },
  {
   "cell_type": "code",
   "execution_count": 50,
   "id": "b1c0f14a",
   "metadata": {
    "ExecuteTime": {
     "end_time": "2023-01-23T22:07:46.902294Z",
     "start_time": "2023-01-23T22:07:46.832280Z"
    }
   },
   "outputs": [],
   "source": [
    "# create dummys for UA, B6, EV, DL, AA\n",
    "df = df.join(pd.get_dummies(df.carrier, prefix='carrier')\\\n",
    "             .loc[:,['carrier_'+i for i in ['UA', 'B6', 'EV', 'DL', 'AA']]])\n",
    "df_test = df_test.join(pd.get_dummies(df_test.carrier, prefix='carrier')\\\n",
    "             .loc[:,['carrier_'+i for i in ['UA', 'B6', 'EV', 'DL', 'AA']]])\n",
    "\n",
    "\n",
    "# lower case cols\n",
    "df.columns = df.columns.map(lambda x: x.lower())\n",
    "df_test.columns = df_test.columns.map(lambda x: x.lower())\n",
    "\n",
    "# # drop carrier\n",
    "# df.drop(columns=['carrier'], inplace=True)\n",
    "# df_test.drop(columns=['carrier'], inplace=True)"
   ]
  },
  {
   "cell_type": "code",
   "execution_count": 51,
   "id": "56df703b",
   "metadata": {
    "ExecuteTime": {
     "end_time": "2023-01-23T22:07:55.241664Z",
     "start_time": "2023-01-23T22:07:54.958737Z"
    }
   },
   "outputs": [
    {
     "data": {
      "image/png": "[encoded data removed]",
      "text/plain": [
       "<Figure size 504x234 with 1 Axes>"
      ]
     },
     "metadata": {
      "needs_background": "light"
     },
     "output_type": "display_data"
    }
   ],
   "source": [
    "distgraph('carrier',['UA','B6','EV','DL','AA'][::-1],\"\")\n",
    "fig = plt.gcf()\n",
    "ax = plt.gca()\n",
    "\n",
    "fig.set_size_inches(7,3.25)\n",
    "ax.set_title('Flight Carrier Distribution',\n",
    "             fontsize=15, \n",
    "             fontweight='bold', \n",
    "             color='firebrick', \n",
    "             loc='left');"
   ]
  },
  {
   "cell_type": "code",
   "execution_count": 52,
   "id": "0cbfc2b9",
   "metadata": {
    "ExecuteTime": {
     "end_time": "2023-01-23T22:07:55.804752Z",
     "start_time": "2023-01-23T22:07:55.439679Z"
    }
   },
   "outputs": [
    {
     "data": {
      "text/plain": [
       "Text(0, 0.5, 'Origin')"
      ]
     },
     "execution_count": 52,
     "metadata": {},
     "output_type": "execute_result"
    },
    {
     "data": {
      "image/png": "[encoded data removed]",
      "text/plain": [
       "<Figure size 720x576 with 1 Axes>"
      ]
     },
     "metadata": {
      "needs_background": "light"
     },
     "output_type": "display_data"
    }
   ],
   "source": [
    "propgraph('carrier',['UA','B6','EV','DL','AA'][::-1],\"Flight Carier\")\n",
    "fig = plt.gcf()\n",
    "ax = plt.gca()\n",
    "\n",
    "ax.legend(loc=(0.85,1.01), labels=['not late','late'])\n",
    "ax.set_xlabel('Percent of Flights')\n",
    "ax.set_ylabel('Origin')"
   ]
  },
  {
   "cell_type": "markdown",
   "id": "8506fcea",
   "metadata": {},
   "source": [
    "#### `sched_distance` (generated)"
   ]
  },
  {
   "cell_type": "markdown",
   "id": "b151d3e4",
   "metadata": {},
   "source": [
    "Lacking `air_time`, we need something to help track the geographic differential between the origin and destination. Look at the amount of unique distances by origin-dest pair."
   ]
  },
  {
   "cell_type": "code",
   "execution_count": 53,
   "id": "2684ae99",
   "metadata": {
    "ExecuteTime": {
     "end_time": "2023-01-23T22:08:06.237737Z",
     "start_time": "2023-01-23T22:08:06.133736Z"
    }
   },
   "outputs": [
    {
     "data": {
      "text/plain": [
       "1    211\n",
       "2      2\n",
       "Name: distance, dtype: int64"
      ]
     },
     "execution_count": 53,
     "metadata": {},
     "output_type": "execute_result"
    }
   ],
   "source": [
    "df.groupby(['origin','dest'])['distance'].nunique().to_frame().distance.value_counts()"
   ]
  },
  {
   "cell_type": "markdown",
   "id": "e235fd7e",
   "metadata": {},
   "source": [
    "There are only two pairs of `origin` and `dest` with multiple values for distance"
   ]
  },
  {
   "cell_type": "code",
   "execution_count": 54,
   "id": "1f1cc6e5",
   "metadata": {
    "ExecuteTime": {
     "end_time": "2023-01-23T22:08:10.522739Z",
     "start_time": "2023-01-23T22:08:08.022455Z"
    }
   },
   "outputs": [
    {
     "data": {
      "text/plain": [
       "MultiIndex([('EWR', 'EGE'),\n",
       "            ('JFK', 'EGE')],\n",
       "           names=['origin', 'dest'])"
      ]
     },
     "execution_count": 54,
     "metadata": {},
     "output_type": "execute_result"
    }
   ],
   "source": [
    "df.groupby(['origin','dest']).nunique()\\\n",
    "[df.groupby(['origin','dest']).nunique().distance>1].index"
   ]
  },
  {
   "cell_type": "code",
   "execution_count": 55,
   "id": "4bbaa92b",
   "metadata": {
    "ExecuteTime": {
     "end_time": "2023-01-23T22:08:11.516789Z",
     "start_time": "2023-01-23T22:08:11.455781Z"
    }
   },
   "outputs": [
    {
     "data": {
      "text/plain": [
       "1726    58\n",
       "1725    36\n",
       "Name: distance, dtype: int64"
      ]
     },
     "execution_count": 55,
     "metadata": {},
     "output_type": "execute_result"
    }
   ],
   "source": [
    "# Look at EWR-EGE pair\n",
    "df[(df.origin == 'EWR')&(df.dest == 'EGE')].distance.value_counts()"
   ]
  },
  {
   "cell_type": "code",
   "execution_count": 56,
   "id": "29ce737e",
   "metadata": {
    "ExecuteTime": {
     "end_time": "2023-01-23T22:08:12.990051Z",
     "start_time": "2023-01-23T22:08:12.904054Z"
    }
   },
   "outputs": [],
   "source": [
    "# adjust all EWF-EGE pairs to be the weighted average\n",
    "ewr_ege_dist = df[(df.origin == 'EWR')&(df.dest == 'EGE')].distance.describe()['mean']\n",
    "\n",
    "df.loc[(df.origin=='EWR')&(df.dest=='EGE'),\"distance\"] = ewr_ege_dist"
   ]
  },
  {
   "cell_type": "code",
   "execution_count": 57,
   "id": "9c3c13bd",
   "metadata": {
    "ExecuteTime": {
     "end_time": "2023-01-23T22:08:13.573570Z",
     "start_time": "2023-01-23T22:08:13.510607Z"
    }
   },
   "outputs": [
    {
     "data": {
      "text/plain": [
       "1747.0    57\n",
       "1746.0    31\n",
       "Name: distance, dtype: int64"
      ]
     },
     "execution_count": 57,
     "metadata": {},
     "output_type": "execute_result"
    }
   ],
   "source": [
    "# Look at JFK-EGE pair\n",
    "df[(df.origin == 'JFK')&(df.dest == 'EGE')].distance.value_counts()"
   ]
  },
  {
   "cell_type": "code",
   "execution_count": 58,
   "id": "546a3c43",
   "metadata": {
    "ExecuteTime": {
     "end_time": "2023-01-23T22:08:14.032365Z",
     "start_time": "2023-01-23T22:08:13.943366Z"
    }
   },
   "outputs": [],
   "source": [
    "# adjust all JFK-EGE pairs to be the weighted average\n",
    "jfk_ege_dist = df[(df.origin == 'JFK')&(df.dest == 'EGE')].distance.describe()['mean']\n",
    "\n",
    "df.loc[(df.origin=='JFK')&(df.dest=='EGE'),\"distance\"] = jfk_ege_dist"
   ]
  },
  {
   "cell_type": "code",
   "execution_count": 59,
   "id": "96a06f70",
   "metadata": {
    "ExecuteTime": {
     "end_time": "2023-01-23T22:08:14.879178Z",
     "start_time": "2023-01-23T22:08:14.783177Z"
    }
   },
   "outputs": [
    {
     "data": {
      "text/plain": [
       "1    213\n",
       "Name: distance, dtype: int64"
      ]
     },
     "execution_count": 59,
     "metadata": {},
     "output_type": "execute_result"
    }
   ],
   "source": [
    "# verify\n",
    "df.groupby(['origin','dest'])['distance'].nunique()\\\n",
    ".to_frame().distance.value_counts()"
   ]
  },
  {
   "cell_type": "code",
   "execution_count": 60,
   "id": "bb1d12c5",
   "metadata": {
    "ExecuteTime": {
     "end_time": "2023-01-23T22:08:15.366177Z",
     "start_time": "2023-01-23T22:08:15.097235Z"
    }
   },
   "outputs": [
    {
     "data": {
      "image/png": "[encoded data removed]",
      "text/plain": [
       "<Figure size 1440x360 with 1 Axes>"
      ]
     },
     "metadata": {
      "needs_background": "light"
     },
     "output_type": "display_data"
    }
   ],
   "source": [
    "fig, ax = plt.subplots(figsize=(20,5))\n",
    "\n",
    "ax.hist(df.distance, bins=np.arange(0,5000,500),\n",
    "        align='left', rwidth=0.8)\n",
    "ax.set_xticks(np.arange(0,5000,500));"
   ]
  },
  {
   "cell_type": "code",
   "execution_count": 61,
   "id": "5cefa813",
   "metadata": {
    "ExecuteTime": {
     "end_time": "2023-01-23T22:08:15.537176Z",
     "start_time": "2023-01-23T22:08:15.369178Z"
    },
    "scrolled": true
   },
   "outputs": [
    {
     "data": {
      "image/png": "[encoded data removed]",
      "text/plain": [
       "<Figure size 1440x360 with 1 Axes>"
      ]
     },
     "metadata": {
      "needs_background": "light"
     },
     "output_type": "display_data"
    }
   ],
   "source": [
    "fig, ax = plt.subplots(figsize=(20,5))\n",
    "\n",
    "ax.boxplot(df.distance, vert=False);"
   ]
  },
  {
   "cell_type": "code",
   "execution_count": 62,
   "id": "8bf1276c",
   "metadata": {
    "ExecuteTime": {
     "end_time": "2023-01-23T22:08:15.552208Z",
     "start_time": "2023-01-23T22:08:15.541178Z"
    }
   },
   "outputs": [
    {
     "data": {
      "text/plain": [
       "HNL    360\n",
       "Name: dest, dtype: int64"
      ]
     },
     "execution_count": 62,
     "metadata": {},
     "output_type": "execute_result"
    }
   ],
   "source": [
    "# look at those outliers\n",
    "df[df.distance>3000].dest.value_counts()"
   ]
  },
  {
   "cell_type": "markdown",
   "id": "3bfd0ce0",
   "metadata": {},
   "source": [
    "**Observation** These all are going to Hawaii"
   ]
  },
  {
   "cell_type": "markdown",
   "id": "e94361cc",
   "metadata": {},
   "source": [
    "The test set does not have this value. Need to create and apply a dictionary"
   ]
  },
  {
   "cell_type": "code",
   "execution_count": 63,
   "id": "38fbc1df",
   "metadata": {
    "ExecuteTime": {
     "end_time": "2023-01-23T22:08:20.363690Z",
     "start_time": "2023-01-23T22:08:20.293622Z"
    }
   },
   "outputs": [],
   "source": [
    "# create origin-destination lookup pairing\n",
    "df['orig_dest_pair'] = df['origin']+'_'+df['dest']\n",
    "df_test['orig_dest_pair'] = df_test['origin']+'_'+df_test['dest']"
   ]
  },
  {
   "cell_type": "code",
   "execution_count": 64,
   "id": "3b15e0de",
   "metadata": {
    "ExecuteTime": {
     "end_time": "2023-01-23T22:08:20.753001Z",
     "start_time": "2023-01-23T22:08:20.619068Z"
    }
   },
   "outputs": [],
   "source": [
    "# create 1-to-1 mapping of origin-destination to distance\n",
    "distance_mapper = df.groupby(['orig_dest_pair']).mean()['distance'] "
   ]
  },
  {
   "cell_type": "code",
   "execution_count": 65,
   "id": "9c244545",
   "metadata": {
    "ExecuteTime": {
     "end_time": "2023-01-23T22:08:24.157601Z",
     "start_time": "2023-01-23T22:08:20.943464Z"
    }
   },
   "outputs": [
    {
     "data": {
      "text/plain": [
       "['EWR_TVC', 'EWR_ANC', 'LGA_CAE']"
      ]
     },
     "execution_count": 65,
     "metadata": {},
     "output_type": "execute_result"
    }
   ],
   "source": [
    "# identify missing origin-destination pairs in test set\n",
    "[v for v in df_test.orig_dest_pair.unique() \n",
    "     if v not in df.orig_dest_pair.unique()]"
   ]
  },
  {
   "cell_type": "code",
   "execution_count": 66,
   "id": "7419bfe1",
   "metadata": {
    "ExecuteTime": {
     "end_time": "2023-01-23T22:08:24.188600Z",
     "start_time": "2023-01-23T22:08:24.160602Z"
    }
   },
   "outputs": [
    {
     "data": {
      "text/plain": [
       "4"
      ]
     },
     "execution_count": 66,
     "metadata": {},
     "output_type": "execute_result"
    }
   ],
   "source": [
    "# find flight count of missing pairs\n",
    "df_test.loc[\\\n",
    "    df_test.orig_dest_pair.isin(['EWR_TVC', 'EWR_ANC', 'LGA_CAE']),:].shape[0]"
   ]
  },
  {
   "cell_type": "code",
   "execution_count": 67,
   "id": "2a942ac0",
   "metadata": {
    "ExecuteTime": {
     "end_time": "2023-01-23T22:08:24.203600Z",
     "start_time": "2023-01-23T22:08:24.192601Z"
    }
   },
   "outputs": [],
   "source": [
    "# drop those flights\n",
    "df_test = df_test.loc[\n",
    "    ~df_test.orig_dest_pair.isin(['EWR_TVC', 'EWR_ANC', 'LGA_CAE']),:]"
   ]
  },
  {
   "cell_type": "code",
   "execution_count": 68,
   "id": "fa22a22a",
   "metadata": {
    "ExecuteTime": {
     "end_time": "2023-01-23T22:08:24.280601Z",
     "start_time": "2023-01-23T22:08:24.206602Z"
    },
    "scrolled": true
   },
   "outputs": [],
   "source": [
    "# apply mapping\n",
    "df_test['sched_distance'] = df_test['orig_dest_pair'].apply(\n",
    "                                        lambda x: distance_mapper[x])"
   ]
  },
  {
   "cell_type": "code",
   "execution_count": 69,
   "id": "3e129212",
   "metadata": {
    "ExecuteTime": {
     "end_time": "2023-01-23T22:08:24.296606Z",
     "start_time": "2023-01-23T22:08:24.283601Z"
    }
   },
   "outputs": [],
   "source": [
    "# rename df variable\n",
    "df.rename(columns={'distance':'sched_distance'}, inplace=True)"
   ]
  },
  {
   "cell_type": "markdown",
   "id": "88609797",
   "metadata": {},
   "source": [
    "#### `flight_delayed_percent_carrier`"
   ]
  },
  {
   "cell_type": "code",
   "execution_count": 71,
   "id": "2b943db3",
   "metadata": {
    "ExecuteTime": {
     "end_time": "2023-01-23T22:08:29.614596Z",
     "start_time": "2023-01-23T22:08:29.508618Z"
    }
   },
   "outputs": [],
   "source": [
    "# create rates\n",
    "carrier_delayed_rate = df.groupby('carrier').mean().delayedflight"
   ]
  },
  {
   "cell_type": "code",
   "execution_count": 72,
   "id": "fe6f27db",
   "metadata": {
    "ExecuteTime": {
     "end_time": "2023-01-23T22:08:32.113003Z",
     "start_time": "2023-01-23T22:08:30.431728Z"
    }
   },
   "outputs": [],
   "source": [
    "# apply rate mapping\n",
    "df['carrier_delayed_rate'] = df['carrier'].\\\n",
    "                                    apply(lambda x: carrier_delayed_rate[x])\n",
    "\n",
    "df_test['carrier_delayed_rate'] = df_test['carrier'].\\\n",
    "                                    apply(lambda x: carrier_delayed_rate[x])"
   ]
  },
  {
   "cell_type": "code",
   "execution_count": 73,
   "id": "313aea42",
   "metadata": {
    "ExecuteTime": {
     "end_time": "2023-01-23T22:08:35.461927Z",
     "start_time": "2023-01-23T22:08:33.715672Z"
    }
   },
   "outputs": [],
   "source": [
    "# repeat for late\n",
    "carrier_late_rate = df.groupby('carrier').mean().lateflight\n",
    "\n",
    "df['carrier_late_rate'] = df['carrier'].apply(lambda x: carrier_late_rate[x])\n",
    "df_test['carrier_late_rate'] = df_test['carrier'].apply(lambda x: carrier_late_rate[x])"
   ]
  },
  {
   "cell_type": "code",
   "execution_count": 74,
   "id": "dd9a9822",
   "metadata": {
    "ExecuteTime": {
     "end_time": "2023-01-23T22:08:47.223382Z",
     "start_time": "2023-01-23T22:08:39.763373Z"
    },
    "scrolled": true
   },
   "outputs": [],
   "source": [
    "# repeat for origin and destinations\n",
    "origin_delayed_rate = df.groupby('origin').mean().delayedflight\n",
    "\n",
    "df['origin_delayed_rate'] = df['origin'].apply(lambda x: origin_delayed_rate[x])\n",
    "df_test['origin_delayed_rate'] = df_test['origin'].apply(lambda x: origin_delayed_rate[x])\n",
    "\n",
    "\n",
    "origin_late_rate = df.groupby('origin').mean().lateflight\n",
    "df['origin_late_rate'] = df['origin'].apply(lambda x: origin_late_rate[x])\n",
    "df_test['origin_late_rate'] = df_test['origin'].apply(lambda x: origin_late_rate[x])\n",
    "\n",
    "\n",
    "dest_delayed_rate = df.groupby('dest').mean().delayedflight\n",
    "df['dest_delayed_rate'] = df['dest'].apply(lambda x: dest_delayed_rate[x])\n",
    "df_test['dest_delayed_rate'] = df_test['dest'].apply(lambda x: dest_delayed_rate[x])\n",
    "\n",
    "dest_late_rate = df.groupby('dest').mean().lateflight\n",
    "df['dest_late_rate'] = df['dest'].apply(lambda x: dest_late_rate[x])\n",
    "df_test['dest_late_rate'] = df_test['dest'].apply(lambda x: dest_late_rate[x])\n",
    "\n"
   ]
  },
  {
   "cell_type": "markdown",
   "id": "dd8161c3",
   "metadata": {},
   "source": [
    "#### `flight` (drop)"
   ]
  },
  {
   "cell_type": "code",
   "execution_count": 75,
   "id": "8bbc7a78",
   "metadata": {
    "ExecuteTime": {
     "end_time": "2023-01-23T22:08:49.079530Z",
     "start_time": "2023-01-23T22:08:49.062546Z"
    }
   },
   "outputs": [
    {
     "data": {
      "text/plain": [
       "(2987,)"
      ]
     },
     "execution_count": 75,
     "metadata": {},
     "output_type": "execute_result"
    }
   ],
   "source": [
    "df.flight.unique().shape"
   ]
  },
  {
   "cell_type": "code",
   "execution_count": 76,
   "id": "da8ffb83",
   "metadata": {
    "ExecuteTime": {
     "end_time": "2023-01-23T22:08:49.457674Z",
     "start_time": "2023-01-23T22:08:49.438676Z"
    }
   },
   "outputs": [
    {
     "data": {
      "text/plain": [
       "(160678, 35)"
      ]
     },
     "execution_count": 76,
     "metadata": {},
     "output_type": "execute_result"
    }
   ],
   "source": [
    "df.shape"
   ]
  },
  {
   "cell_type": "code",
   "execution_count": 77,
   "id": "27583d85",
   "metadata": {
    "ExecuteTime": {
     "end_time": "2023-01-23T22:08:49.938527Z",
     "start_time": "2023-01-23T22:08:49.920527Z"
    }
   },
   "outputs": [
    {
     "data": {
      "text/plain": [
       "181     0.003174\n",
       "695     0.002819\n",
       "27      0.002533\n",
       "15      0.002521\n",
       "21      0.002396\n",
       "          ...   \n",
       "4850    0.000006\n",
       "2357    0.000006\n",
       "3551    0.000006\n",
       "5343    0.000006\n",
       "5294    0.000006\n",
       "Name: flight, Length: 2987, dtype: float64"
      ]
     },
     "execution_count": 77,
     "metadata": {},
     "output_type": "execute_result"
    }
   ],
   "source": [
    "df.flight.value_counts(normalize=True,ascending=False)"
   ]
  },
  {
   "cell_type": "markdown",
   "id": "cd5cf3dc",
   "metadata": {},
   "source": [
    "**Observation** The highest frequency for a flight value is .3% of the dataset. Drop"
   ]
  },
  {
   "cell_type": "code",
   "execution_count": 78,
   "id": "c9a35e18",
   "metadata": {
    "ExecuteTime": {
     "end_time": "2023-01-23T22:08:53.537624Z",
     "start_time": "2023-01-23T22:08:53.415611Z"
    }
   },
   "outputs": [],
   "source": [
    "# drop\n",
    "df.drop(columns=['flight'], inplace=True)\n",
    "df_test.drop(columns=['flight'], inplace=True)"
   ]
  },
  {
   "cell_type": "markdown",
   "id": "240d53ae",
   "metadata": {},
   "source": [
    "#### `previous_airport` (generated)"
   ]
  },
  {
   "cell_type": "code",
   "execution_count": 80,
   "id": "9a75eddb",
   "metadata": {
    "ExecuteTime": {
     "end_time": "2023-01-23T22:08:59.496587Z",
     "start_time": "2023-01-23T22:08:59.438516Z"
    }
   },
   "outputs": [],
   "source": [
    "df['previous_airport'] = df.groupby('tailnum')['dest'].shift(1)"
   ]
  },
  {
   "cell_type": "code",
   "execution_count": 81,
   "id": "2a15b858",
   "metadata": {
    "ExecuteTime": {
     "end_time": "2023-01-23T22:09:00.043503Z",
     "start_time": "2023-01-23T22:09:00.007571Z"
    }
   },
   "outputs": [
    {
     "data": {
      "text/html": [
       "<div>\n",
       "<style scoped>\n",
       "    .dataframe tbody tr th:only-of-type {\n",
       "        vertical-align: middle;\n",
       "    }\n",
       "\n",
       "    .dataframe tbody tr th {\n",
       "        vertical-align: top;\n",
       "    }\n",
       "\n",
       "    .dataframe thead th {\n",
       "        text-align: right;\n",
       "    }\n",
       "</style>\n",
       "<table border=\"1\" class=\"dataframe\">\n",
       "  <thead>\n",
       "    <tr style=\"text-align: right;\">\n",
       "      <th></th>\n",
       "      <th>previous_airport_share</th>\n",
       "    </tr>\n",
       "  </thead>\n",
       "  <tbody>\n",
       "    <tr>\n",
       "      <th>ATL</th>\n",
       "      <td>0.050470</td>\n",
       "    </tr>\n",
       "    <tr>\n",
       "      <th>ORD</th>\n",
       "      <td>0.048934</td>\n",
       "    </tr>\n",
       "    <tr>\n",
       "      <th>LAX</th>\n",
       "      <td>0.047194</td>\n",
       "    </tr>\n",
       "    <tr>\n",
       "      <th>BOS</th>\n",
       "      <td>0.046843</td>\n",
       "    </tr>\n",
       "    <tr>\n",
       "      <th>MCO</th>\n",
       "      <td>0.044032</td>\n",
       "    </tr>\n",
       "  </tbody>\n",
       "</table>\n",
       "</div>"
      ],
      "text/plain": [
       "     previous_airport_share\n",
       "ATL                0.050470\n",
       "ORD                0.048934\n",
       "LAX                0.047194\n",
       "BOS                0.046843\n",
       "MCO                0.044032"
      ]
     },
     "execution_count": 81,
     "metadata": {},
     "output_type": "execute_result"
    }
   ],
   "source": [
    "pd.DataFrame(pd.Series(df['previous_airport'].value_counts(normalize=True)[:5])).rename({'previous_airport': 'previous_airport_share'}, axis='columns')"
   ]
  },
  {
   "cell_type": "code",
   "execution_count": 82,
   "id": "c78ad4b4",
   "metadata": {
    "ExecuteTime": {
     "end_time": "2023-01-23T22:09:01.206653Z",
     "start_time": "2023-01-23T22:09:01.094653Z"
    }
   },
   "outputs": [
    {
     "data": {
      "text/html": [
       "<div>\n",
       "<style scoped>\n",
       "    .dataframe tbody tr th:only-of-type {\n",
       "        vertical-align: middle;\n",
       "    }\n",
       "\n",
       "    .dataframe tbody tr th {\n",
       "        vertical-align: top;\n",
       "    }\n",
       "\n",
       "    .dataframe thead th {\n",
       "        text-align: right;\n",
       "    }\n",
       "</style>\n",
       "<table border=\"1\" class=\"dataframe\">\n",
       "  <thead>\n",
       "    <tr style=\"text-align: right;\">\n",
       "      <th></th>\n",
       "      <th></th>\n",
       "      <th>share</th>\n",
       "    </tr>\n",
       "    <tr>\n",
       "      <th>dest</th>\n",
       "      <th>previous_airport</th>\n",
       "      <th></th>\n",
       "    </tr>\n",
       "  </thead>\n",
       "  <tbody>\n",
       "    <tr>\n",
       "      <th>ATL</th>\n",
       "      <th>ATL</th>\n",
       "      <td>0.027967</td>\n",
       "    </tr>\n",
       "    <tr>\n",
       "      <th>LAX</th>\n",
       "      <th>LAX</th>\n",
       "      <td>0.024805</td>\n",
       "    </tr>\n",
       "    <tr>\n",
       "      <th>CLT</th>\n",
       "      <th>CLT</th>\n",
       "      <td>0.021579</td>\n",
       "    </tr>\n",
       "    <tr>\n",
       "      <th>ORD</th>\n",
       "      <th>ORD</th>\n",
       "      <td>0.019278</td>\n",
       "    </tr>\n",
       "    <tr>\n",
       "      <th>BOS</th>\n",
       "      <th>BOS</th>\n",
       "      <td>0.018704</td>\n",
       "    </tr>\n",
       "  </tbody>\n",
       "</table>\n",
       "</div>"
      ],
      "text/plain": [
       "                          share\n",
       "dest previous_airport          \n",
       "ATL  ATL               0.027967\n",
       "LAX  LAX               0.024805\n",
       "CLT  CLT               0.021579\n",
       "ORD  ORD               0.019278\n",
       "BOS  BOS               0.018704"
      ]
     },
     "execution_count": 82,
     "metadata": {},
     "output_type": "execute_result"
    }
   ],
   "source": [
    "pd.DataFrame(pd.Series(df[['dest','previous_airport']].value_counts(normalize=True)[:5])).rename({0: 'share'}, axis='columns')"
   ]
  },
  {
   "cell_type": "markdown",
   "id": "3b02d3c6",
   "metadata": {},
   "source": [
    "#### `tailnum` (drop)"
   ]
  },
  {
   "cell_type": "code",
   "execution_count": 83,
   "id": "dfba791f",
   "metadata": {
    "ExecuteTime": {
     "end_time": "2023-01-23T22:09:06.200675Z",
     "start_time": "2023-01-23T22:09:06.166648Z"
    }
   },
   "outputs": [
    {
     "data": {
      "text/plain": [
       "(3814,)"
      ]
     },
     "execution_count": 83,
     "metadata": {},
     "output_type": "execute_result"
    }
   ],
   "source": [
    "df.tailnum.unique().shape"
   ]
  },
  {
   "cell_type": "code",
   "execution_count": 84,
   "id": "14db91c0",
   "metadata": {
    "ExecuteTime": {
     "end_time": "2023-01-23T22:09:06.633825Z",
     "start_time": "2023-01-23T22:09:06.601826Z"
    }
   },
   "outputs": [
    {
     "data": {
      "text/plain": [
       "N725MQ    0.002290\n",
       "N723MQ    0.002265\n",
       "N713MQ    0.002216\n",
       "N711MQ    0.002184\n",
       "N722MQ    0.002178\n",
       "            ...   \n",
       "N632SW    0.000006\n",
       "N552NW    0.000006\n",
       "N7AEAA    0.000006\n",
       "N770NC    0.000006\n",
       "N826AW    0.000006\n",
       "Name: tailnum, Length: 3814, dtype: float64"
      ]
     },
     "execution_count": 84,
     "metadata": {},
     "output_type": "execute_result"
    }
   ],
   "source": [
    "df.tailnum.value_counts(normalize=True,ascending=False)"
   ]
  },
  {
   "cell_type": "markdown",
   "id": "3ff3164f",
   "metadata": {},
   "source": [
    "**Observation** The highest frequency for a flight value is .2% of the dataset. Drop"
   ]
  },
  {
   "cell_type": "code",
   "execution_count": 85,
   "id": "5331ce80",
   "metadata": {
    "ExecuteTime": {
     "end_time": "2023-01-23T22:09:08.175374Z",
     "start_time": "2023-01-23T22:09:08.111375Z"
    }
   },
   "outputs": [],
   "source": [
    "# drop\n",
    "df.drop(columns=['tailnum'], inplace=True)\n",
    "df_test.drop(columns=['tailnum'], inplace=True)"
   ]
  },
  {
   "cell_type": "markdown",
   "id": "3481f1d7",
   "metadata": {},
   "source": [
    "#### `origin`"
   ]
  },
  {
   "cell_type": "code",
   "execution_count": 86,
   "id": "5faaa41f",
   "metadata": {
    "ExecuteTime": {
     "end_time": "2023-01-23T22:09:11.817093Z",
     "start_time": "2023-01-23T22:09:11.783009Z"
    }
   },
   "outputs": [
    {
     "data": {
      "text/plain": [
       "array(['EWR', 'LGA', 'JFK'], dtype=object)"
      ]
     },
     "execution_count": 86,
     "metadata": {},
     "output_type": "execute_result"
    }
   ],
   "source": [
    "df.origin.unique()"
   ]
  },
  {
   "cell_type": "code",
   "execution_count": 87,
   "id": "d453cff6",
   "metadata": {
    "ExecuteTime": {
     "end_time": "2023-01-23T22:09:11.989008Z",
     "start_time": "2023-01-23T22:09:11.959009Z"
    }
   },
   "outputs": [
    {
     "data": {
      "text/plain": [
       "EWR    0.363933\n",
       "JFK    0.336076\n",
       "LGA    0.299991\n",
       "Name: origin, dtype: float64"
      ]
     },
     "execution_count": 87,
     "metadata": {},
     "output_type": "execute_result"
    }
   ],
   "source": [
    "df.origin.value_counts(normalize=True,ascending=False)"
   ]
  },
  {
   "cell_type": "code",
   "execution_count": 88,
   "id": "a1696f52",
   "metadata": {
    "ExecuteTime": {
     "end_time": "2023-01-23T22:09:12.620786Z",
     "start_time": "2023-01-23T22:09:12.344787Z"
    }
   },
   "outputs": [
    {
     "data": {
      "text/plain": [
       "Text(0.0, 1.0, 'Flight Origin Distribution')"
      ]
     },
     "execution_count": 88,
     "metadata": {},
     "output_type": "execute_result"
    },
    {
     "data": {
      "image/png": "[encoded data removed]",
      "text/plain": [
       "<Figure size 504x144 with 1 Axes>"
      ]
     },
     "metadata": {
      "needs_background": "light"
     },
     "output_type": "display_data"
    }
   ],
   "source": [
    "distgraph('origin',df.origin.unique()[::-1],'Flight Origin')\n",
    "fig = plt.gcf()\n",
    "ax = plt.gca()\n",
    "\n",
    "fig.set_size_inches(7,2)\n",
    "ax.set_title('Flight Origin Distribution',\n",
    "             fontsize=15, \n",
    "             fontweight='bold', \n",
    "             color='firebrick', \n",
    "             loc='left')"
   ]
  },
  {
   "cell_type": "code",
   "execution_count": 89,
   "id": "a230ce96",
   "metadata": {
    "ExecuteTime": {
     "end_time": "2023-01-23T22:09:14.304662Z",
     "start_time": "2023-01-23T22:09:13.999980Z"
    }
   },
   "outputs": [
    {
     "data": {
      "text/plain": [
       "Text(0, 0.5, 'Origin')"
      ]
     },
     "execution_count": 89,
     "metadata": {},
     "output_type": "execute_result"
    },
    {
     "data": {
      "image/png": "[encoded data removed]",
      "text/plain": [
       "<Figure size 720x576 with 1 Axes>"
      ]
     },
     "metadata": {
      "needs_background": "light"
     },
     "output_type": "display_data"
    }
   ],
   "source": [
    "propgraph('origin',df.origin.unique()[::-1],'Flight Origin')\n",
    "fig = plt.gcf()\n",
    "ax = plt.gca()\n",
    "\n",
    "ax.legend(loc=(0.85,1.01), labels=['not late','late'])\n",
    "ax.set_xlabel('Percent of Flights')\n",
    "ax.set_ylabel('Origin')"
   ]
  },
  {
   "cell_type": "markdown",
   "id": "251c03ad",
   "metadata": {},
   "source": [
    "**Observation** These are all very evenly distributed. Dummy them."
   ]
  },
  {
   "cell_type": "code",
   "execution_count": 90,
   "id": "07195b05",
   "metadata": {
    "ExecuteTime": {
     "end_time": "2023-01-23T22:09:16.505569Z",
     "start_time": "2023-01-23T22:09:16.445566Z"
    }
   },
   "outputs": [],
   "source": [
    "# dummy\n",
    "df = df.join(pd.get_dummies(df.origin,prefix='origin', drop_first=True))\n",
    "df_test = df_test.join(pd.get_dummies(df_test.origin,prefix='origin', drop_first=True))"
   ]
  },
  {
   "cell_type": "markdown",
   "id": "0b306e32",
   "metadata": {},
   "source": [
    "#### `dest`"
   ]
  },
  {
   "cell_type": "code",
   "execution_count": 91,
   "id": "007b55a4",
   "metadata": {
    "ExecuteTime": {
     "end_time": "2023-01-23T22:09:20.147559Z",
     "start_time": "2023-01-23T22:09:20.125556Z"
    }
   },
   "outputs": [
    {
     "data": {
      "text/plain": [
       "(100,)"
      ]
     },
     "execution_count": 91,
     "metadata": {},
     "output_type": "execute_result"
    }
   ],
   "source": [
    "df.dest.unique().shape"
   ]
  },
  {
   "cell_type": "code",
   "execution_count": 92,
   "id": "125c4bfd",
   "metadata": {
    "ExecuteTime": {
     "end_time": "2023-01-23T22:09:20.350558Z",
     "start_time": "2023-01-23T22:09:20.319557Z"
    }
   },
   "outputs": [
    {
     "data": {
      "text/plain": [
       "ATL    0.051656\n",
       "ORD    0.049310\n",
       "LAX    0.046982\n",
       "BOS    0.046229\n",
       "MCO    0.043509\n",
       "         ...   \n",
       "TVC    0.000093\n",
       "HDN    0.000075\n",
       "MTJ    0.000075\n",
       "JAC    0.000050\n",
       "EYW    0.000044\n",
       "Name: dest, Length: 100, dtype: float64"
      ]
     },
     "execution_count": 92,
     "metadata": {},
     "output_type": "execute_result"
    }
   ],
   "source": [
    "df.dest.value_counts(normalize=True)"
   ]
  },
  {
   "cell_type": "markdown",
   "id": "2dab7faf",
   "metadata": {},
   "source": [
    "I'm intrigued by these top destinations. Dummy if 4% or more"
   ]
  },
  {
   "cell_type": "code",
   "execution_count": 93,
   "id": "8516cda8",
   "metadata": {
    "ExecuteTime": {
     "end_time": "2023-01-23T22:09:22.274700Z",
     "start_time": "2023-01-23T22:09:22.237702Z"
    }
   },
   "outputs": [
    {
     "data": {
      "text/plain": [
       "dest\n",
       "CAE    0.833333\n",
       "OKC    0.686667\n",
       "TUL    0.682759\n",
       "GRR    0.629630\n",
       "JAC    0.625000\n",
       "         ...   \n",
       "BOS    0.323775\n",
       "HNL    0.319444\n",
       "PSP    0.312500\n",
       "SLC    0.301548\n",
       "SNA    0.263889\n",
       "Name: lateflight, Length: 100, dtype: float64"
      ]
     },
     "execution_count": 93,
     "metadata": {},
     "output_type": "execute_result"
    }
   ],
   "source": [
    "df.groupby('dest')['lateflight'].mean().sort_values(ascending=False)"
   ]
  },
  {
   "cell_type": "code",
   "execution_count": 94,
   "id": "a2f472fb",
   "metadata": {
    "ExecuteTime": {
     "end_time": "2023-01-23T22:09:23.386110Z",
     "start_time": "2023-01-23T22:09:22.983666Z"
    }
   },
   "outputs": [
    {
     "data": {
      "image/png": "[encoded data removed]",
      "text/plain": [
       "<Figure size 504x234 with 1 Axes>"
      ]
     },
     "metadata": {
      "needs_background": "light"
     },
     "output_type": "display_data"
    }
   ],
   "source": [
    "distgraph('dest',['ATL','ORD','LAX','BOS','MCO','CLT','FLL'][::-1],\"\")\n",
    "fig = plt.gcf()\n",
    "ax = plt.gca()\n",
    "\n",
    "fig.set_size_inches(7,3.25)\n",
    "ax.set_title('Flight Destination Distribution',\n",
    "             fontsize=15, \n",
    "             fontweight='bold', \n",
    "             color='firebrick', \n",
    "             loc='left');"
   ]
  },
  {
   "cell_type": "code",
   "execution_count": 95,
   "id": "9ff804bd",
   "metadata": {
    "ExecuteTime": {
     "end_time": "2023-01-23T22:09:25.513713Z",
     "start_time": "2023-01-23T22:09:25.134743Z"
    }
   },
   "outputs": [
    {
     "data": {
      "text/plain": [
       "Text(0, 0.5, 'Destination')"
      ]
     },
     "execution_count": 95,
     "metadata": {},
     "output_type": "execute_result"
    },
    {
     "data": {
      "image/png": "[encoded data removed]",
      "text/plain": [
       "<Figure size 720x576 with 1 Axes>"
      ]
     },
     "metadata": {
      "needs_background": "light"
     },
     "output_type": "display_data"
    }
   ],
   "source": [
    "propgraph('dest',['ATL','ORD','LAX','BOS','MCO','CLT','FLL'][::-1],\"Flight Destination\")\n",
    "fig = plt.gcf()\n",
    "ax = plt.gca()\n",
    "\n",
    "ax.legend(loc=(0.85,1.01), labels=['not late','late'])\n",
    "ax.set_xlabel('Percent of Flights')\n",
    "ax.set_ylabel('Destination')"
   ]
  },
  {
   "cell_type": "code",
   "execution_count": 96,
   "id": "81ab1fa5",
   "metadata": {
    "ExecuteTime": {
     "end_time": "2023-01-23T22:09:31.883529Z",
     "start_time": "2023-01-23T22:09:31.830794Z"
    }
   },
   "outputs": [],
   "source": [
    "destover4 = df['dest'].value_counts(normalize=True)\\\n",
    "            [df['dest'].value_counts(normalize=True)>= 0.04].index"
   ]
  },
  {
   "cell_type": "code",
   "execution_count": 97,
   "id": "06a3b51b",
   "metadata": {
    "ExecuteTime": {
     "end_time": "2023-01-23T22:09:32.803717Z",
     "start_time": "2023-01-23T22:09:32.641743Z"
    }
   },
   "outputs": [],
   "source": [
    "df = df.join(pd.get_dummies(df.dest, prefix='dest')\\\n",
    "             .loc[:,['dest_'+i for i in destover4]])\n",
    "df_test = df_test.join(pd.get_dummies(df_test.dest, prefix='dest')\\\n",
    "             .loc[:,['dest_'+i for i in destover4]])\n",
    "\n",
    "\n",
    "df.columns = df.columns.map(lambda x: x.lower())\n",
    "df_test.columns = df_test.columns.map(lambda x: x.lower())"
   ]
  },
  {
   "cell_type": "markdown",
   "id": "18de72f8",
   "metadata": {},
   "source": [
    "#### `hour` (drop)"
   ]
  },
  {
   "cell_type": "code",
   "execution_count": 98,
   "id": "c4f6c075",
   "metadata": {
    "ExecuteTime": {
     "end_time": "2023-01-23T22:09:34.617074Z",
     "start_time": "2023-01-23T22:09:34.261410Z"
    }
   },
   "outputs": [
    {
     "data": {
      "image/png": "[encoded data removed]",
      "text/plain": [
       "<Figure size 1440x360 with 1 Axes>"
      ]
     },
     "metadata": {
      "needs_background": "light"
     },
     "output_type": "display_data"
    }
   ],
   "source": [
    "fig, ax = plt.subplots(figsize=(20,5))\n",
    "\n",
    "ax.hist(df.hour, bins=np.arange(0,24,1),\n",
    "        align='left', rwidth=0.8)\n",
    "ax.set_xticks(np.arange(0,24,1));"
   ]
  },
  {
   "cell_type": "markdown",
   "id": "7e5f9045",
   "metadata": {},
   "source": [
    "This is duplicative of `sched_dep_time` now that it is a function of hour and percent of hour (rather than minutes)"
   ]
  },
  {
   "cell_type": "code",
   "execution_count": 99,
   "id": "f5a6744a",
   "metadata": {
    "ExecuteTime": {
     "end_time": "2023-01-23T22:09:35.940888Z",
     "start_time": "2023-01-23T22:09:35.869807Z"
    }
   },
   "outputs": [],
   "source": [
    "# drop\n",
    "df.drop(columns=['hour'], inplace=True)\n",
    "df_test.drop(columns=['hour'], inplace=True)"
   ]
  },
  {
   "cell_type": "markdown",
   "id": "61287e62",
   "metadata": {},
   "source": [
    "#### `minute`"
   ]
  },
  {
   "cell_type": "code",
   "execution_count": 100,
   "id": "2b6fc7e9",
   "metadata": {
    "ExecuteTime": {
     "end_time": "2023-01-23T22:09:38.214789Z",
     "start_time": "2023-01-23T22:09:37.829675Z"
    }
   },
   "outputs": [
    {
     "data": {
      "image/png": "[encoded data removed]",
      "text/plain": [
       "<Figure size 1440x360 with 1 Axes>"
      ]
     },
     "metadata": {
      "needs_background": "light"
     },
     "output_type": "display_data"
    }
   ],
   "source": [
    "fig, ax = plt.subplots(figsize=(20,5))\n",
    "\n",
    "ax.hist(df.minute, bins=np.arange(0,60,1),\n",
    "        align='left', rwidth=0.8)\n",
    "ax.set_xticks(np.arange(0,60,5));"
   ]
  },
  {
   "cell_type": "markdown",
   "id": "777cf5d1",
   "metadata": {},
   "source": [
    "Keep this because it can indicate intra-hour effect of scheduled departure"
   ]
  },
  {
   "cell_type": "markdown",
   "id": "00b5e362",
   "metadata": {},
   "source": [
    "#### `time_hour`"
   ]
  },
  {
   "cell_type": "markdown",
   "id": "580e27c2",
   "metadata": {},
   "source": [
    "This is a duplicative feature. Drop"
   ]
  },
  {
   "cell_type": "code",
   "execution_count": 101,
   "id": "901d9afc",
   "metadata": {
    "ExecuteTime": {
     "end_time": "2023-01-23T22:09:40.959826Z",
     "start_time": "2023-01-23T22:09:40.902758Z"
    }
   },
   "outputs": [],
   "source": [
    "df.drop(columns=['time_hour'], inplace=True)\n",
    "df_test.drop(columns=['time_hour'], inplace=True)"
   ]
  },
  {
   "cell_type": "markdown",
   "id": "6f7a474e",
   "metadata": {},
   "source": [
    "# Review Relationships between Variables"
   ]
  },
  {
   "cell_type": "code",
   "execution_count": 102,
   "id": "2bb0a531",
   "metadata": {
    "ExecuteTime": {
     "end_time": "2023-01-23T22:09:42.061326Z",
     "start_time": "2023-01-23T22:09:42.045326Z"
    }
   },
   "outputs": [
    {
     "data": {
      "text/plain": [
       "['uniqueid']"
      ]
     },
     "execution_count": 102,
     "metadata": {},
     "output_type": "execute_result"
    }
   ],
   "source": [
    "[c for c in df_test.columns if c not in df.columns]"
   ]
  },
  {
   "cell_type": "code",
   "execution_count": 103,
   "id": "692967c0",
   "metadata": {
    "ExecuteTime": {
     "end_time": "2023-01-23T22:09:42.970679Z",
     "start_time": "2023-01-23T22:09:42.951682Z"
    }
   },
   "outputs": [],
   "source": [
    "df_test.drop(columns=['uniqueid'], inplace=True)"
   ]
  },
  {
   "cell_type": "code",
   "execution_count": 104,
   "id": "2f0baa80",
   "metadata": {
    "ExecuteTime": {
     "end_time": "2023-01-23T22:09:43.544869Z",
     "start_time": "2023-01-23T22:09:43.528929Z"
    }
   },
   "outputs": [
    {
     "data": {
      "text/plain": [
       "['dep_delay', 'arr_delay', 'delayedflight', 'previous_airport']"
      ]
     },
     "execution_count": 104,
     "metadata": {},
     "output_type": "execute_result"
    }
   ],
   "source": [
    "[c for c in df.columns if c not in df_test.columns]"
   ]
  },
  {
   "cell_type": "code",
   "execution_count": 105,
   "id": "fd0b9c44",
   "metadata": {
    "ExecuteTime": {
     "end_time": "2023-01-23T22:09:44.107069Z",
     "start_time": "2023-01-23T22:09:44.055001Z"
    }
   },
   "outputs": [],
   "source": [
    "# drop\n",
    "df.drop(columns=['dep_delay','arr_delay','delayedflight','previous_airport'], inplace=True)"
   ]
  },
  {
   "cell_type": "code",
   "execution_count": 106,
   "id": "ac9b48ad",
   "metadata": {
    "ExecuteTime": {
     "end_time": "2023-01-23T22:09:44.582515Z",
     "start_time": "2023-01-23T22:09:44.550514Z"
    }
   },
   "outputs": [],
   "source": [
    "df['sched_distance_rounded'] = 100 * round(df.sched_distance/100)\n",
    "df_test['sched_distance_rounded'] = 100 * round(df_test.sched_distance/100)"
   ]
  },
  {
   "cell_type": "code",
   "execution_count": 107,
   "id": "3f53dc64",
   "metadata": {
    "ExecuteTime": {
     "end_time": "2023-01-23T22:09:46.285198Z",
     "start_time": "2023-01-23T22:09:45.429742Z"
    },
    "scrolled": false
   },
   "outputs": [
    {
     "data": {
      "text/plain": [
       "Text(0, 0.5, 'Late Flight Rate')"
      ]
     },
     "execution_count": 107,
     "metadata": {},
     "output_type": "execute_result"
    },
    {
     "data": {
      "image/png": "[encoded data removed]",
      "text/plain": [
       "<Figure size 432x288 with 1 Axes>"
      ]
     },
     "metadata": {
      "needs_background": "light"
     },
     "output_type": "display_data"
    }
   ],
   "source": [
    "fig, ax=plt.subplots(1,1)\n",
    "\n",
    "ax.scatter(df.groupby('sched_distance_rounded').mean().reset_index().sched_distance_rounded,\n",
    "            df.groupby('sched_distance_rounded').mean().lateflight,\n",
    "            alpha=0.6)\n",
    "mask = df.groupby('sched_distance_rounded').mean().lateflight > 0.55\n",
    "ax.scatter(df.groupby('sched_distance_rounded').mean()[mask].reset_index().sched_distance_rounded,\n",
    "          df.groupby('sched_distance_rounded').mean()[mask].lateflight,\n",
    "            alpha=0.6,\n",
    "          color='red')\n",
    "ax.set_title('Late Flight by Scheduled Distance (Rounded)')\n",
    "ax.set_xlabel('Distance (Rounded)')\n",
    "ax.set_ylabel('Late Flight Rate')"
   ]
  },
  {
   "cell_type": "code",
   "execution_count": 108,
   "id": "4cd22d02",
   "metadata": {
    "ExecuteTime": {
     "end_time": "2023-01-23T22:09:47.709276Z",
     "start_time": "2023-01-23T22:09:47.487273Z"
    }
   },
   "outputs": [],
   "source": [
    "# remove outliers\n",
    "df = df[~df.sched_distance_rounded.isin(\\\n",
    "    df.groupby('sched_distance_rounded').mean()[mask]\\\n",
    "                                .reset_index().sched_distance_rounded.values)]"
   ]
  },
  {
   "cell_type": "code",
   "execution_count": 109,
   "id": "b7f4c468",
   "metadata": {
    "ExecuteTime": {
     "end_time": "2023-01-23T22:09:48.625197Z",
     "start_time": "2023-01-23T22:09:48.575680Z"
    }
   },
   "outputs": [],
   "source": [
    "# drop sched_distance for colinearity\n",
    "df.drop(columns=['sched_distance'], inplace=True)\n",
    "df_test.drop(columns=['sched_distance'], inplace=True)"
   ]
  },
  {
   "cell_type": "code",
   "execution_count": 111,
   "id": "1dd52f28",
   "metadata": {
    "ExecuteTime": {
     "end_time": "2023-01-23T22:10:07.843176Z",
     "start_time": "2023-01-23T22:10:07.799168Z"
    }
   },
   "outputs": [],
   "source": [
    "# clean up\n",
    "df.drop(columns=['day','carrier','origin','dest','orig_dest_pair'], inplace=True)\n",
    "df_test.drop(columns=['day','carrier','origin','dest','orig_dest_pair'], inplace=True)"
   ]
  },
  {
   "cell_type": "code",
   "execution_count": 113,
   "id": "de2105f3",
   "metadata": {
    "ExecuteTime": {
     "end_time": "2023-01-23T22:10:09.660155Z",
     "start_time": "2023-01-23T22:10:08.951211Z"
    },
    "scrolled": true
   },
   "outputs": [
    {
     "data": {
      "image/png": "[encoded data removed]",
      "text/plain": [
       "<Figure size 432x288 with 1 Axes>"
      ]
     },
     "metadata": {
      "needs_background": "light"
     },
     "output_type": "display_data"
    }
   ],
   "source": [
    "sns.regplot(x='sched_dep_time', y='lateflight', data=df.groupby('sched_dep_time').mean().reset_index(),\n",
    "            scatter_kws={'alpha':0.2},line_kws = {'color': 'red'})\\\n",
    ".set(title='Scheduled Departure Time vs Late Flight Rate');"
   ]
  },
  {
   "cell_type": "code",
   "execution_count": 114,
   "id": "3dc0c105",
   "metadata": {
    "ExecuteTime": {
     "end_time": "2023-01-23T22:10:16.712707Z",
     "start_time": "2023-01-23T22:10:15.960837Z"
    },
    "scrolled": true
   },
   "outputs": [
    {
     "data": {
      "image/png": "[encoded data removed]",
      "text/plain": [
       "<Figure size 432x288 with 1 Axes>"
      ]
     },
     "metadata": {
      "needs_background": "light"
     },
     "output_type": "display_data"
    }
   ],
   "source": [
    "sns.regplot(x='sched_arr_time', y='lateflight', data=df.groupby('sched_arr_time').mean().reset_index(),\n",
    "            color='rebeccapurple',scatter_kws={'alpha':0.2},line_kws = {'color': 'red'})\\\n",
    ".set(title='Scheduled Arrival Time vs Late Flight Rate');"
   ]
  },
  {
   "cell_type": "code",
   "execution_count": 115,
   "id": "3665e2a8",
   "metadata": {
    "ExecuteTime": {
     "end_time": "2023-01-23T22:10:18.578489Z",
     "start_time": "2023-01-23T22:10:18.096257Z"
    }
   },
   "outputs": [
    {
     "data": {
      "image/png": "[encoded data removed]",
      "text/plain": [
       "<Figure size 432x288 with 1 Axes>"
      ]
     },
     "metadata": {
      "needs_background": "light"
     },
     "output_type": "display_data"
    }
   ],
   "source": [
    "sns.regplot(x='carrier_late_rate', y='lateflight', data=df.groupby('carrier_late_rate').mean().reset_index(),\n",
    "            color='rebeccapurple',scatter_kws={'alpha':0.7},line_kws = {'color': 'red'})\\\n",
    ".set(title='Carrier Late Rate vs Late Flight Rate');"
   ]
  },
  {
   "cell_type": "code",
   "execution_count": 116,
   "id": "887a9932",
   "metadata": {
    "ExecuteTime": {
     "end_time": "2023-01-23T22:10:20.580969Z",
     "start_time": "2023-01-23T22:10:20.047744Z"
    }
   },
   "outputs": [
    {
     "data": {
      "image/png": "[encoded data removed]",
      "text/plain": [
       "<Figure size 432x288 with 1 Axes>"
      ]
     },
     "metadata": {
      "needs_background": "light"
     },
     "output_type": "display_data"
    }
   ],
   "source": [
    "sns.regplot(x='dest_late_rate', y='lateflight', data=df.groupby('dest_late_rate').mean().reset_index(),\n",
    "            color='rebeccapurple',scatter_kws={'alpha':0.7},line_kws = {'color': 'red'})\\\n",
    ".set(title='Destination Late Rate vs Late Flight Rate');"
   ]
  },
  {
   "cell_type": "markdown",
   "id": "6ffa07e2",
   "metadata": {},
   "source": [
    "# Output"
   ]
  },
  {
   "cell_type": "code",
   "execution_count": 117,
   "id": "2a7d51c9",
   "metadata": {
    "ExecuteTime": {
     "end_time": "2023-01-23T22:10:35.504980Z",
     "start_time": "2023-01-23T22:10:29.749123Z"
    }
   },
   "outputs": [],
   "source": [
    "df.to_csv('../data/cleaned_flight_history.csv', index=False)\n",
    "df_test.to_csv('../data/cleaned_flight_test.csv', index=False)"
   ]
  },
  {
   "cell_type": "markdown",
   "id": "51e7f48f",
   "metadata": {},
   "source": [
    "# Archive"
   ]
  },
  {
   "cell_type": "markdown",
   "id": "01c4e083",
   "metadata": {},
   "source": [
    "Similar to our lateflight feature, it could be very useful to know if the flight was delayed"
   ]
  },
  {
   "cell_type": "code",
   "execution_count": null,
   "id": "bec1201a",
   "metadata": {
    "ExecuteTime": {
     "end_time": "2023-01-23T19:39:47.018769Z",
     "start_time": "2023-01-23T19:39:47.005769Z"
    }
   },
   "outputs": [],
   "source": [
    "# fig, ax = plt.subplots(1,2, figsize=(20,5))\n",
    "\n",
    "# df.groupby('delayedflight')['day'].count().plot(kind='barh', ax=ax[0])\n",
    "# df.delayedflight.value_counts(normalize=True).plot(kind='barh',\n",
    "#                                                 ax=ax[1],\n",
    "#                                                 color='rebeccapurple')\n",
    "\n",
    "# ax[0].set_xlabel('# of Records')\n",
    "# ax[0].set_ylabel('Is DelayedFlight')\n",
    "# ax[0].bar_label(ax[0].containers[0],label_type='center', color='w')\n",
    "\n",
    "# ax[1].set_xlabel('# of Records')\n",
    "# ax[1].set_ylabel('Is DelayedFlight')\n",
    "# ax[1].bar_label(ax[1].containers[0],\n",
    "#                 label_type='center',\n",
    "#                 color='w',\n",
    "#                 fmt='%.2f')\n",
    "\n",
    "# fig.suptitle('DelayedFlight Target Variable Distribution');"
   ]
  },
  {
   "cell_type": "markdown",
   "id": "bb0fb8a4",
   "metadata": {},
   "source": [
    "**Observation** More flights are delayed than late"
   ]
  },
  {
   "cell_type": "markdown",
   "id": "a5fa5c57",
   "metadata": {},
   "source": [
    "One thing I want to check is the correlation between delayed and late"
   ]
  },
  {
   "cell_type": "code",
   "execution_count": null,
   "id": "cefb3a2c",
   "metadata": {
    "ExecuteTime": {
     "end_time": "2023-01-23T19:39:47.033770Z",
     "start_time": "2023-01-23T19:39:47.024791Z"
    }
   },
   "outputs": [],
   "source": [
    "# df.groupby(['delayedflight','lateflight']).size().unstack() / df.shape[0]"
   ]
  },
  {
   "cell_type": "markdown",
   "id": "7b37ee3d",
   "metadata": {},
   "source": [
    "**Observation** There is a pretty good overlap of flights that were delayed and late"
   ]
  },
  {
   "cell_type": "markdown",
   "id": "b3b6892e",
   "metadata": {},
   "source": [
    "Ideas: Scheduled flight duration (sched departure - sched arrival)"
   ]
  }
 ],
 "metadata": {
  "kernelspec": {
   "display_name": "Python 3 (ipykernel)",
   "language": "python",
   "name": "python3"
  },
  "language_info": {
   "codemirror_mode": {
    "name": "ipython",
    "version": 3
   },
   "file_extension": ".py",
   "mimetype": "text/x-python",
   "name": "python",
   "nbconvert_exporter": "python",
   "pygments_lexer": "ipython3",
   "version": "3.9.12"
  },
  "toc": {
   "base_numbering": 1,
   "nav_menu": {},
   "number_sections": false,
   "sideBar": true,
   "skip_h1_title": false,
   "title_cell": "Table of Contents",
   "title_sidebar": "Contents",
   "toc_cell": false,
   "toc_position": {
    "height": "calc(100% - 180px)",
    "left": "10px",
    "top": "150px",
    "width": "283.125px"
   },
   "toc_section_display": true,
   "toc_window_display": true
  }
 },
 "nbformat": 4,
 "nbformat_minor": 5
}
