{
 "cells": [
  {
   "cell_type": "markdown",
   "id": "9719473c",
   "metadata": {},
   "source": [
    "## Imports and Functions"
   ]
  },
  {
   "cell_type": "code",
   "execution_count": 1,
   "id": "bb236bc5",
   "metadata": {
    "ExecuteTime": {
     "end_time": "2023-01-23T22:17:10.898072Z",
     "start_time": "2023-01-23T22:17:07.215316Z"
    }
   },
   "outputs": [],
   "source": [
    "import pandas as pd\n",
    "import numpy as np\n",
    "\n",
    "import matplotlib.pyplot as plt\n",
    "import seaborn as sns\n",
    "\n",
    "from sklearn.preprocessing import StandardScaler\n",
    "from sklearn.feature_selection import RFECV\n",
    "from sklearn.linear_model import BayesianRidge\n",
    "\n",
    "np.random.seed(2121)"
   ]
  },
  {
   "cell_type": "code",
   "execution_count": 2,
   "id": "18223230",
   "metadata": {
    "ExecuteTime": {
     "end_time": "2023-01-23T22:17:11.743609Z",
     "start_time": "2023-01-23T22:17:10.901072Z"
    }
   },
   "outputs": [],
   "source": [
    "df = pd.read_csv('../data/cleaned_flight_history.csv')\n",
    "df_test = pd.read_csv('../data/cleaned_flight_test.csv')"
   ]
  },
  {
   "cell_type": "code",
   "execution_count": 3,
   "id": "33a8054b",
   "metadata": {
    "ExecuteTime": {
     "end_time": "2023-01-23T22:17:11.805619Z",
     "start_time": "2023-01-23T22:17:11.746618Z"
    }
   },
   "outputs": [],
   "source": [
    "# generate y and X dataframes\n",
    "y_train = df.lateflight\n",
    "y_test = df_test.lateflight\n",
    "\n",
    "X_train = df[[col for col in df.columns if col != 'lateflight']]\n",
    "X_test = df_test[[col for col in df_test.columns if col != 'lateflight']]"
   ]
  },
  {
   "cell_type": "code",
   "execution_count": 4,
   "id": "e79447d1",
   "metadata": {
    "ExecuteTime": {
     "end_time": "2023-01-23T22:17:11.820620Z",
     "start_time": "2023-01-23T22:17:11.810617Z"
    }
   },
   "outputs": [
    {
     "name": "stdout",
     "output_type": "stream",
     "text": [
      "(160505,) (5782,) (160505, 30) (5782, 30)\n"
     ]
    }
   ],
   "source": [
    "print(y_train.shape, y_test.shape, X_train.shape, X_test.shape)"
   ]
  },
  {
   "cell_type": "markdown",
   "id": "de5df8e0",
   "metadata": {},
   "source": [
    "**Observation** Matches up!"
   ]
  },
  {
   "cell_type": "markdown",
   "id": "faedb23a",
   "metadata": {},
   "source": [
    "## Standard Scale"
   ]
  },
  {
   "cell_type": "code",
   "execution_count": 5,
   "id": "4e29c41a",
   "metadata": {
    "ExecuteTime": {
     "end_time": "2023-01-23T22:17:12.039505Z",
     "start_time": "2023-01-23T22:17:11.822617Z"
    }
   },
   "outputs": [],
   "source": [
    "# initialize\n",
    "ss = StandardScaler()\n",
    "\n",
    "# fit on Train\n",
    "X_train_ss = pd.DataFrame(ss.fit_transform(X_train),\n",
    "                          columns = X_train.columns,\n",
    "                          index = X_train.index)\n",
    "\n",
    "# transform test\n",
    "X_test_ss = pd.DataFrame(ss.transform(X_test),\n",
    "                         columns = X_test.columns,\n",
    "                         index = X_test.index)"
   ]
  },
  {
   "cell_type": "markdown",
   "id": "2039cd91",
   "metadata": {},
   "source": [
    "## RFE"
   ]
  },
  {
   "cell_type": "code",
   "execution_count": 6,
   "id": "b6d0b7d8",
   "metadata": {
    "ExecuteTime": {
     "end_time": "2023-01-23T22:17:42.670459Z",
     "start_time": "2023-01-23T22:17:12.043506Z"
    }
   },
   "outputs": [
    {
     "name": "stdout",
     "output_type": "stream",
     "text": [
      "# of Columns Kept: 22\n",
      "# of Columns Dropped: 8\n"
     ]
    }
   ],
   "source": [
    "rfecv = RFECV(\n",
    "            estimator=BayesianRidge(),\n",
    "            step = 1,\n",
    "            cv = 5,\n",
    "            scoring='r2',\n",
    "            min_features_to_select=10)\n",
    "\n",
    "rfecv.fit(X_train_ss,y_train)\n",
    "\n",
    "cols_to_keep = X_train_ss.T[rfecv.ranking_==1].T.columns\n",
    "cols_to_drop = X_train_ss.T[rfecv.ranking_!=1].T.columns\n",
    "\n",
    "print(f'# of Columns Kept: {len(cols_to_keep)}')\n",
    "print(f'# of Columns Dropped: {len(cols_to_drop)}')"
   ]
  },
  {
   "cell_type": "code",
   "execution_count": 7,
   "id": "ea2e80cf",
   "metadata": {
    "ExecuteTime": {
     "end_time": "2023-01-23T22:17:42.983294Z",
     "start_time": "2023-01-23T22:17:42.674459Z"
    }
   },
   "outputs": [
    {
     "data": {
      "image/png": "[encoded data removed]",
      "text/plain": [
       "<Figure size 432x288 with 1 Axes>"
      ]
     },
     "metadata": {
      "needs_background": "light"
     },
     "output_type": "display_data"
    }
   ],
   "source": [
    "# https://scikit-learn.org/stable/auto_examples/feature_selection/plot_rfe_with_cross_validation.html#sphx-glr-auto-examples-feature-selection-plot-rfe-with-cross-validation-py\n",
    "# Plot number of features VS. cross-validation scores\n",
    "plt.figure()\n",
    "plt.xlabel(\"Number of features selected\")\n",
    "plt.ylabel(\"Cross validation score (r2)\")\n",
    "plt.plot(\n",
    "    range(10, len(rfecv.cv_results_['mean_test_score'])+10),\n",
    "    rfecv.cv_results_['mean_test_score']\n",
    ")\n",
    "plt.title('Cross Validation Scores by Features Selected\\n');"
   ]
  },
  {
   "cell_type": "code",
   "execution_count": 8,
   "id": "b1b7314a",
   "metadata": {
    "ExecuteTime": {
     "end_time": "2023-01-23T22:17:42.999294Z",
     "start_time": "2023-01-23T22:17:42.986387Z"
    }
   },
   "outputs": [
    {
     "data": {
      "text/plain": [
       "Index(['minute', 'carrier_ua', 'carrier_ev', 'carrier_delayed_rate',\n",
       "       'origin_lga', 'dest_lax', 'dest_mco', 'dest_clt'],\n",
       "      dtype='object')"
      ]
     },
     "execution_count": 8,
     "metadata": {},
     "output_type": "execute_result"
    }
   ],
   "source": [
    "# look at cols to drop\n",
    "cols_to_drop"
   ]
  },
  {
   "cell_type": "code",
   "execution_count": 9,
   "id": "46b527f6",
   "metadata": {
    "ExecuteTime": {
     "end_time": "2023-01-23T22:17:43.061291Z",
     "start_time": "2023-01-23T22:17:43.002294Z"
    }
   },
   "outputs": [],
   "source": [
    "# drop cols\n",
    "X_test_ss.drop(columns=cols_to_drop, inplace=True)\n",
    "X_train_ss.drop(columns=cols_to_drop, inplace=True)"
   ]
  },
  {
   "cell_type": "markdown",
   "id": "76cb4d2d",
   "metadata": {},
   "source": [
    "## Exports"
   ]
  },
  {
   "cell_type": "code",
   "execution_count": 10,
   "id": "6e8a6bd1",
   "metadata": {
    "ExecuteTime": {
     "end_time": "2023-01-23T22:17:54.778256Z",
     "start_time": "2023-01-23T22:17:43.066292Z"
    }
   },
   "outputs": [],
   "source": [
    "y_train.to_csv('../data/y_train_processed.csv', index=False)\n",
    "y_test.to_csv('../data/y_test_processed.csv', index=False)\n",
    "\n",
    "X_train_ss.to_csv('../data/x_train_ss_processed.csv', index=False)\n",
    "X_test_ss.to_csv('../data/x_test_ss_processed.csv', index=False)"
   ]
  },
  {
   "cell_type": "markdown",
   "id": "8722b371",
   "metadata": {},
   "source": [
    "## Archive"
   ]
  },
  {
   "cell_type": "markdown",
   "id": "fe8e568f",
   "metadata": {},
   "source": [
    "### SelectKBest (not used)"
   ]
  },
  {
   "cell_type": "code",
   "execution_count": 11,
   "id": "3a1636cc",
   "metadata": {
    "ExecuteTime": {
     "end_time": "2023-01-23T22:17:54.793259Z",
     "start_time": "2023-01-23T22:17:54.780257Z"
    }
   },
   "outputs": [],
   "source": [
    "# # Create and fit selector\n",
    "# selector = SelectKBest(k=20)\n",
    "# selector.fit(X_train_ss, y_train)"
   ]
  },
  {
   "cell_type": "code",
   "execution_count": 12,
   "id": "aae94c7e",
   "metadata": {
    "ExecuteTime": {
     "end_time": "2023-01-23T22:17:54.809319Z",
     "start_time": "2023-01-23T22:17:54.799258Z"
    }
   },
   "outputs": [],
   "source": [
    "# # Get columns to keep and create new dataframe with those only\n",
    "# cols = selector.get_support(indices=True)"
   ]
  },
  {
   "cell_type": "code",
   "execution_count": 13,
   "id": "84c2f67c",
   "metadata": {
    "ExecuteTime": {
     "end_time": "2023-01-23T22:17:54.824262Z",
     "start_time": "2023-01-23T22:17:54.813257Z"
    }
   },
   "outputs": [],
   "source": [
    "# X_train_feat_select = X_train_ss.iloc[:,cols]\n",
    "# X_test_feat_select = X_test_ss.iloc[:,cols]"
   ]
  },
  {
   "cell_type": "code",
   "execution_count": 14,
   "id": "f2faf1b4",
   "metadata": {
    "ExecuteTime": {
     "end_time": "2023-01-23T22:17:54.840257Z",
     "start_time": "2023-01-23T22:17:54.827257Z"
    }
   },
   "outputs": [],
   "source": [
    "# removed_cols = [c for c in X_train_ss.columns if c not in X_train_feat_select.columns]\n",
    "# X_train_feat_removed = X_train_ss.loc[:,removed_cols]\n",
    "# X_test_feat_removed = X_test_ss.loc[:,removed_cols]"
   ]
  },
  {
   "cell_type": "code",
   "execution_count": 15,
   "id": "2af52cd3",
   "metadata": {
    "ExecuteTime": {
     "end_time": "2023-01-23T22:17:54.855256Z",
     "start_time": "2023-01-23T22:17:54.843257Z"
    }
   },
   "outputs": [],
   "source": [
    "# # Selected Columns\n",
    "# X_train_feat_select.columns"
   ]
  }
 ],
 "metadata": {
  "kernelspec": {
   "display_name": "Python 3 (ipykernel)",
   "language": "python",
   "name": "python3"
  },
  "language_info": {
   "codemirror_mode": {
    "name": "ipython",
    "version": 3
   },
   "file_extension": ".py",
   "mimetype": "text/x-python",
   "name": "python",
   "nbconvert_exporter": "python",
   "pygments_lexer": "ipython3",
   "version": "3.9.12"
  },
  "toc": {
   "base_numbering": 1,
   "nav_menu": {},
   "number_sections": false,
   "sideBar": true,
   "skip_h1_title": false,
   "title_cell": "Table of Contents",
   "title_sidebar": "Contents",
   "toc_cell": false,
   "toc_position": {},
   "toc_section_display": true,
   "toc_window_display": true
  }
 },
 "nbformat": 4,
 "nbformat_minor": 5
}
